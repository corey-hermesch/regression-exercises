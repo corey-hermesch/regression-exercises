{
 "cells": [
  {
   "cell_type": "code",
   "execution_count": 1,
   "id": "7c4292e2",
   "metadata": {},
   "outputs": [],
   "source": [
    "# Imports\n",
    "from env import host, user, password\n",
    "import os\n",
    "\n",
    "import numpy as np\n",
    "import pandas as pd\n",
    "\n",
    "from sklearn.model_selection import train_test_split\n",
    "from sklearn.impute import SimpleImputer\n",
    "\n",
    "import matplotlib.pyplot as plt\n",
    "import seaborn as sns\n",
    "\n",
    "import wrangle as w\n",
    "np.random.seed(42)"
   ]
  },
  {
   "cell_type": "markdown",
   "id": "afd50a71",
   "metadata": {},
   "source": [
    "# Initial data pull and looking at / seeking to understand data"
   ]
  },
  {
   "cell_type": "code",
   "execution_count": 2,
   "id": "a8a5930e",
   "metadata": {},
   "outputs": [
    {
     "name": "stdout",
     "output_type": "stream",
     "text": [
      "csv file found and read\n"
     ]
    }
   ],
   "source": [
    "# initial sql query \n",
    "df = w.get_zillow_data()"
   ]
  },
  {
   "cell_type": "code",
   "execution_count": 3,
   "id": "7822c0fd",
   "metadata": {},
   "outputs": [
    {
     "data": {
      "text/html": [
       "<div>\n",
       "<style scoped>\n",
       "    .dataframe tbody tr th:only-of-type {\n",
       "        vertical-align: middle;\n",
       "    }\n",
       "\n",
       "    .dataframe tbody tr th {\n",
       "        vertical-align: top;\n",
       "    }\n",
       "\n",
       "    .dataframe thead th {\n",
       "        text-align: right;\n",
       "    }\n",
       "</style>\n",
       "<table border=\"1\" class=\"dataframe\">\n",
       "  <thead>\n",
       "    <tr style=\"text-align: right;\">\n",
       "      <th></th>\n",
       "      <th>bedroomcnt</th>\n",
       "      <th>bathroomcnt</th>\n",
       "      <th>calculatedfinishedsquarefeet</th>\n",
       "      <th>taxvaluedollarcnt</th>\n",
       "      <th>yearbuilt</th>\n",
       "      <th>taxamount</th>\n",
       "      <th>fips</th>\n",
       "    </tr>\n",
       "  </thead>\n",
       "  <tbody>\n",
       "    <tr>\n",
       "      <th>0</th>\n",
       "      <td>0.0</td>\n",
       "      <td>0.0</td>\n",
       "      <td>NaN</td>\n",
       "      <td>27516.0</td>\n",
       "      <td>NaN</td>\n",
       "      <td>NaN</td>\n",
       "      <td>6037.0</td>\n",
       "    </tr>\n",
       "    <tr>\n",
       "      <th>1</th>\n",
       "      <td>0.0</td>\n",
       "      <td>0.0</td>\n",
       "      <td>NaN</td>\n",
       "      <td>10.0</td>\n",
       "      <td>NaN</td>\n",
       "      <td>NaN</td>\n",
       "      <td>6037.0</td>\n",
       "    </tr>\n",
       "    <tr>\n",
       "      <th>2</th>\n",
       "      <td>0.0</td>\n",
       "      <td>0.0</td>\n",
       "      <td>NaN</td>\n",
       "      <td>10.0</td>\n",
       "      <td>NaN</td>\n",
       "      <td>NaN</td>\n",
       "      <td>6037.0</td>\n",
       "    </tr>\n",
       "    <tr>\n",
       "      <th>3</th>\n",
       "      <td>0.0</td>\n",
       "      <td>0.0</td>\n",
       "      <td>NaN</td>\n",
       "      <td>2108.0</td>\n",
       "      <td>NaN</td>\n",
       "      <td>174.21</td>\n",
       "      <td>6037.0</td>\n",
       "    </tr>\n",
       "    <tr>\n",
       "      <th>4</th>\n",
       "      <td>4.0</td>\n",
       "      <td>2.0</td>\n",
       "      <td>3633.0</td>\n",
       "      <td>296425.0</td>\n",
       "      <td>2005.0</td>\n",
       "      <td>6941.39</td>\n",
       "      <td>6037.0</td>\n",
       "    </tr>\n",
       "  </tbody>\n",
       "</table>\n",
       "</div>"
      ],
      "text/plain": [
       "   bedroomcnt  bathroomcnt  calculatedfinishedsquarefeet  taxvaluedollarcnt  \\\n",
       "0         0.0          0.0                           NaN            27516.0   \n",
       "1         0.0          0.0                           NaN               10.0   \n",
       "2         0.0          0.0                           NaN               10.0   \n",
       "3         0.0          0.0                           NaN             2108.0   \n",
       "4         4.0          2.0                        3633.0           296425.0   \n",
       "\n",
       "   yearbuilt  taxamount    fips  \n",
       "0        NaN        NaN  6037.0  \n",
       "1        NaN        NaN  6037.0  \n",
       "2        NaN        NaN  6037.0  \n",
       "3        NaN     174.21  6037.0  \n",
       "4     2005.0    6941.39  6037.0  "
      ]
     },
     "execution_count": 3,
     "metadata": {},
     "output_type": "execute_result"
    }
   ],
   "source": [
    "df.head()"
   ]
  },
  {
   "cell_type": "code",
   "execution_count": 4,
   "id": "1763edce",
   "metadata": {},
   "outputs": [],
   "source": [
    "#rename columns to something less unwieldy\n",
    "df.columns = ['bedrooms', 'bathrooms', 'square_feet', 'tax_value', 'year_built', 'tax_amount', 'county']"
   ]
  },
  {
   "cell_type": "code",
   "execution_count": null,
   "id": "f7e17cf3",
   "metadata": {},
   "outputs": [],
   "source": []
  },
  {
   "cell_type": "code",
   "execution_count": 5,
   "id": "73fc9e9f",
   "metadata": {},
   "outputs": [
    {
     "name": "stdout",
     "output_type": "stream",
     "text": [
      "<class 'pandas.core.frame.DataFrame'>\n",
      "RangeIndex: 2152863 entries, 0 to 2152862\n",
      "Data columns (total 7 columns):\n",
      " #   Column       Dtype  \n",
      "---  ------       -----  \n",
      " 0   bedrooms     float64\n",
      " 1   bathrooms    float64\n",
      " 2   square_feet  float64\n",
      " 3   tax_value    float64\n",
      " 4   year_built   float64\n",
      " 5   tax_amount   float64\n",
      " 6   county       float64\n",
      "dtypes: float64(7)\n",
      "memory usage: 115.0 MB\n"
     ]
    }
   ],
   "source": [
    "df.info()"
   ]
  },
  {
   "cell_type": "code",
   "execution_count": 6,
   "id": "6182cc82",
   "metadata": {},
   "outputs": [
    {
     "data": {
      "text/plain": [
       "bedrooms         11\n",
       "bathrooms        11\n",
       "square_feet    8484\n",
       "tax_value       493\n",
       "year_built     9337\n",
       "tax_amount     4442\n",
       "county            0\n",
       "dtype: int64"
      ]
     },
     "execution_count": 6,
     "metadata": {},
     "output_type": "execute_result"
    }
   ],
   "source": [
    "df.isnull().sum()"
   ]
  },
  {
   "cell_type": "code",
   "execution_count": 7,
   "id": "1995e1e9",
   "metadata": {},
   "outputs": [
    {
     "data": {
      "text/plain": [
       "3.0     964298\n",
       "4.0     634289\n",
       "2.0     335473\n",
       "5.0     150866\n",
       "6.0      25166\n",
       "1.0      23166\n",
       "0.0      13187\n",
       "7.0       4807\n",
       "8.0       1107\n",
       "9.0        291\n",
       "10.0       121\n",
       "11.0        34\n",
       "13.0        16\n",
       "12.0        12\n",
       "NaN         11\n",
       "14.0         7\n",
       "15.0         6\n",
       "18.0         3\n",
       "16.0         2\n",
       "25.0         1\n",
       "Name: bedrooms, dtype: int64"
      ]
     },
     "execution_count": 7,
     "metadata": {},
     "output_type": "execute_result"
    }
   ],
   "source": [
    "df.bedrooms.value_counts(dropna=False)"
   ]
  },
  {
   "cell_type": "code",
   "execution_count": 8,
   "id": "e992c17e",
   "metadata": {},
   "outputs": [
    {
     "data": {
      "text/plain": [
       "2.00     943589\n",
       "3.00     422841\n",
       "1.00     414324\n",
       "2.50     142981\n",
       "4.00      82155\n",
       "1.50      31211\n",
       "3.50      28518\n",
       "5.00      28362\n",
       "4.50      19506\n",
       "0.00      13027\n",
       "6.00      10747\n",
       "5.50       6217\n",
       "7.00       4394\n",
       "8.00       1692\n",
       "6.50       1333\n",
       "9.00        713\n",
       "7.50        384\n",
       "10.00       325\n",
       "11.00       146\n",
       "8.50        110\n",
       "12.00        73\n",
       "9.50         50\n",
       "13.00        39\n",
       "14.00        25\n",
       "15.00        17\n",
       "0.50         16\n",
       "10.50        14\n",
       "16.00        12\n",
       "NaN          11\n",
       "18.00         8\n",
       "20.00         6\n",
       "17.00         4\n",
       "1.75          3\n",
       "12.50         3\n",
       "11.50         3\n",
       "19.50         1\n",
       "14.50         1\n",
       "32.00         1\n",
       "19.00         1\n",
       "Name: bathrooms, dtype: int64"
      ]
     },
     "execution_count": 8,
     "metadata": {},
     "output_type": "execute_result"
    }
   ],
   "source": [
    "df.bathrooms.value_counts(dropna=False)"
   ]
  },
  {
   "cell_type": "code",
   "execution_count": 9,
   "id": "19f7d92f",
   "metadata": {},
   "outputs": [
    {
     "data": {
      "text/plain": [
       "1200.0     5195\n",
       "1080.0     4389\n",
       "1120.0     4362\n",
       "1400.0     3833\n",
       "1440.0     3690\n",
       "           ... \n",
       "10613.0       1\n",
       "9360.0        1\n",
       "10238.0       1\n",
       "13748.0       1\n",
       "24920.0       1\n",
       "Name: square_feet, Length: 10580, dtype: int64"
      ]
     },
     "execution_count": 9,
     "metadata": {},
     "output_type": "execute_result"
    }
   ],
   "source": [
    "df.square_feet.value_counts()"
   ]
  },
  {
   "cell_type": "code",
   "execution_count": 10,
   "id": "1db193d5",
   "metadata": {},
   "outputs": [
    {
     "data": {
      "text/plain": [
       "221686     1.0\n",
       "1561311    1.0\n",
       "1529169    1.0\n",
       "1518436    2.0\n",
       "667672     4.0\n",
       "          ... \n",
       "2131494    NaN\n",
       "2142029    NaN\n",
       "2142113    NaN\n",
       "2142169    NaN\n",
       "2142173    NaN\n",
       "Name: tax_value, Length: 2152863, dtype: float64"
      ]
     },
     "execution_count": 10,
     "metadata": {},
     "output_type": "execute_result"
    }
   ],
   "source": [
    "df.tax_value.sort_values()"
   ]
  },
  {
   "cell_type": "code",
   "execution_count": 11,
   "id": "ed2996ff",
   "metadata": {},
   "outputs": [
    {
     "data": {
      "text/plain": [
       "0.0"
      ]
     },
     "execution_count": 11,
     "metadata": {},
     "output_type": "execute_result"
    }
   ],
   "source": [
    "(df.tax_value % 1).sum()"
   ]
  },
  {
   "cell_type": "code",
   "execution_count": 12,
   "id": "27ab0a87",
   "metadata": {},
   "outputs": [],
   "source": [
    "# decided to drop all nulls since it was only ~1% of data\n",
    "# -- actually only .6% of data because some rows had multiple nulls\n",
    "df = df.dropna()"
   ]
  },
  {
   "cell_type": "code",
   "execution_count": 13,
   "id": "1e6c8ed5",
   "metadata": {},
   "outputs": [
    {
     "data": {
      "text/plain": [
       "(2140235, 7)"
      ]
     },
     "execution_count": 13,
     "metadata": {},
     "output_type": "execute_result"
    }
   ],
   "source": [
    "df.shape"
   ]
  },
  {
   "cell_type": "code",
   "execution_count": 14,
   "id": "fd3998c2",
   "metadata": {},
   "outputs": [],
   "source": [
    "# most columns can/should be integers; exception was bathroom_cnt which I left as a float\n",
    "for col in df.columns [df.columns != 'bathrooms']:\n",
    "#     print (col)\n",
    "    df[col] = df[col].astype(int)"
   ]
  },
  {
   "cell_type": "code",
   "execution_count": 15,
   "id": "576c5887",
   "metadata": {},
   "outputs": [],
   "source": [
    "# decided fips should really be a string to better represent a categorical variable\n",
    "df.county = df.county.map({6037: 'LA', 6059: 'Orange', 6111: 'Ventura'})"
   ]
  },
  {
   "cell_type": "code",
   "execution_count": 16,
   "id": "8b1e8fce",
   "metadata": {},
   "outputs": [
    {
     "data": {
      "text/html": [
       "<div>\n",
       "<style scoped>\n",
       "    .dataframe tbody tr th:only-of-type {\n",
       "        vertical-align: middle;\n",
       "    }\n",
       "\n",
       "    .dataframe tbody tr th {\n",
       "        vertical-align: top;\n",
       "    }\n",
       "\n",
       "    .dataframe thead th {\n",
       "        text-align: right;\n",
       "    }\n",
       "</style>\n",
       "<table border=\"1\" class=\"dataframe\">\n",
       "  <thead>\n",
       "    <tr style=\"text-align: right;\">\n",
       "      <th></th>\n",
       "      <th>bedrooms</th>\n",
       "      <th>bathrooms</th>\n",
       "      <th>square_feet</th>\n",
       "      <th>tax_value</th>\n",
       "      <th>year_built</th>\n",
       "      <th>tax_amount</th>\n",
       "      <th>county</th>\n",
       "    </tr>\n",
       "  </thead>\n",
       "  <tbody>\n",
       "    <tr>\n",
       "      <th>4</th>\n",
       "      <td>4</td>\n",
       "      <td>2.0</td>\n",
       "      <td>3633</td>\n",
       "      <td>296425</td>\n",
       "      <td>2005</td>\n",
       "      <td>6941</td>\n",
       "      <td>LA</td>\n",
       "    </tr>\n",
       "    <tr>\n",
       "      <th>6</th>\n",
       "      <td>3</td>\n",
       "      <td>4.0</td>\n",
       "      <td>1620</td>\n",
       "      <td>847770</td>\n",
       "      <td>2011</td>\n",
       "      <td>10244</td>\n",
       "      <td>LA</td>\n",
       "    </tr>\n",
       "    <tr>\n",
       "      <th>7</th>\n",
       "      <td>3</td>\n",
       "      <td>2.0</td>\n",
       "      <td>2077</td>\n",
       "      <td>646760</td>\n",
       "      <td>1926</td>\n",
       "      <td>7924</td>\n",
       "      <td>LA</td>\n",
       "    </tr>\n",
       "    <tr>\n",
       "      <th>11</th>\n",
       "      <td>0</td>\n",
       "      <td>0.0</td>\n",
       "      <td>1200</td>\n",
       "      <td>5328</td>\n",
       "      <td>1972</td>\n",
       "      <td>91</td>\n",
       "      <td>LA</td>\n",
       "    </tr>\n",
       "    <tr>\n",
       "      <th>14</th>\n",
       "      <td>0</td>\n",
       "      <td>0.0</td>\n",
       "      <td>171</td>\n",
       "      <td>6920</td>\n",
       "      <td>1973</td>\n",
       "      <td>255</td>\n",
       "      <td>LA</td>\n",
       "    </tr>\n",
       "  </tbody>\n",
       "</table>\n",
       "</div>"
      ],
      "text/plain": [
       "    bedrooms  bathrooms  square_feet  tax_value  year_built  tax_amount county\n",
       "4          4        2.0         3633     296425        2005        6941     LA\n",
       "6          3        4.0         1620     847770        2011       10244     LA\n",
       "7          3        2.0         2077     646760        1926        7924     LA\n",
       "11         0        0.0         1200       5328        1972          91     LA\n",
       "14         0        0.0          171       6920        1973         255     LA"
      ]
     },
     "execution_count": 16,
     "metadata": {},
     "output_type": "execute_result"
    }
   ],
   "source": [
    "df.head()"
   ]
  },
  {
   "cell_type": "markdown",
   "id": "6be73cb2",
   "metadata": {},
   "source": [
    "# Acquire Summary\n",
    "- combined acquire and clean_up code into wrangle_zillow (not yet split)"
   ]
  },
  {
   "cell_type": "code",
   "execution_count": 17,
   "id": "7089574e",
   "metadata": {
    "scrolled": false
   },
   "outputs": [
    {
     "name": "stdout",
     "output_type": "stream",
     "text": [
      "csv file found and read\n"
     ]
    }
   ],
   "source": [
    "df = w.wrangle_zillow()"
   ]
  },
  {
   "cell_type": "markdown",
   "id": "1b3950d7",
   "metadata": {},
   "source": [
    "# Visualization of univariate variables"
   ]
  },
  {
   "cell_type": "code",
   "execution_count": 18,
   "id": "66854c1d",
   "metadata": {},
   "outputs": [
    {
     "name": "stdout",
     "output_type": "stream",
     "text": [
      "<class 'pandas.core.frame.DataFrame'>\n",
      "Int64Index: 2033172 entries, 4 to 2152862\n",
      "Data columns (total 7 columns):\n",
      " #   Column       Dtype \n",
      "---  ------       ----- \n",
      " 0   bedrooms     int64 \n",
      " 1   bathrooms    int64 \n",
      " 2   square_feet  int64 \n",
      " 3   tax_value    int64 \n",
      " 4   year_built   int64 \n",
      " 5   tax_amount   int64 \n",
      " 6   county       object\n",
      "dtypes: int64(6), object(1)\n",
      "memory usage: 124.1+ MB\n"
     ]
    }
   ],
   "source": [
    "df.info()"
   ]
  },
  {
   "cell_type": "code",
   "execution_count": 19,
   "id": "12b6455e",
   "metadata": {},
   "outputs": [
    {
     "data": {
      "image/png": "[encoded data removed]",
      "text/plain": [
       "<Figure size 640x480 with 1 Axes>"
      ]
     },
     "metadata": {},
     "output_type": "display_data"
    }
   ],
   "source": [
    "bins_ = range(0,26)\n",
    "plt.hist(df.bedrooms, bins=bins_)\n",
    "plt.ylabel('count')\n",
    "plt.xlabel('number of bedrooms')\n",
    "plt.show()"
   ]
  },
  {
   "cell_type": "code",
   "execution_count": 20,
   "id": "ff97f312",
   "metadata": {},
   "outputs": [
    {
     "data": {
      "image/png": "[encoded data removed]",
      "text/plain": [
       "<Figure size 640x480 with 1 Axes>"
      ]
     },
     "metadata": {},
     "output_type": "display_data"
    }
   ],
   "source": [
    "plt.hist(df.bathrooms, bins=bins_)\n",
    "plt.ylabel('count')\n",
    "plt.xlabel('number of bathrooms')\n",
    "plt.show()"
   ]
  },
  {
   "cell_type": "code",
   "execution_count": 21,
   "id": "a4bc156f",
   "metadata": {},
   "outputs": [
    {
     "data": {
      "image/png": "[encoded data removed]",
      "text/plain": [
       "<Figure size 640x480 with 1 Axes>"
      ]
     },
     "metadata": {},
     "output_type": "display_data"
    }
   ],
   "source": [
    "sf_bins = [0,500,1000,1500,2000,2500,3000,3500,4000,4500,5000,5500,6000,6500,7000,7500,8000,8500,9000,9500,10000]\n",
    "plt.hist(df.square_feet, bins=sf_bins)\n",
    "plt.ylabel('count')\n",
    "plt.xlabel('square feet')\n",
    "plt.show()"
   ]
  },
  {
   "cell_type": "code",
   "execution_count": 22,
   "id": "7d930ec9",
   "metadata": {},
   "outputs": [
    {
     "data": {
      "image/png": "[encoded data removed]",
      "text/plain": [
       "<Figure size 640x480 with 1 Axes>"
      ]
     },
     "metadata": {},
     "output_type": "display_data"
    }
   ],
   "source": [
    "tax_value_cnt_bins = range(0,1_000_000,5000)\n",
    "plt.hist(df.tax_value, bins=tax_value_cnt_bins)\n",
    "plt.ylabel('count')\n",
    "plt.xlabel('tax value')\n",
    "plt.show()"
   ]
  },
  {
   "cell_type": "code",
   "execution_count": 23,
   "id": "697d38c8",
   "metadata": {},
   "outputs": [
    {
     "data": {
      "image/png": "[encoded data removed]",
      "text/plain": [
       "<Figure size 640x480 with 1 Axes>"
      ]
     },
     "metadata": {},
     "output_type": "display_data"
    }
   ],
   "source": [
    "year_bins = range(1870,2025,5)\n",
    "plt.hist(df.year_built, bins=year_bins)\n",
    "plt.ylabel('count')\n",
    "plt.xlabel('year built')\n",
    "plt.show()"
   ]
  },
  {
   "cell_type": "code",
   "execution_count": 24,
   "id": "3df7ec61",
   "metadata": {},
   "outputs": [
    {
     "data": {
      "image/png": "[encoded data removed]",
      "text/plain": [
       "<Figure size 640x480 with 1 Axes>"
      ]
     },
     "metadata": {},
     "output_type": "display_data"
    }
   ],
   "source": [
    "tax_amt_range = range(0,31000,1000)\n",
    "plt.hist(df.tax_amount, bins=tax_amt_range)\n",
    "plt.ylabel('count')\n",
    "plt.xlabel('tax amount')\n",
    "plt.show()"
   ]
  },
  {
   "cell_type": "code",
   "execution_count": 25,
   "id": "c56fe82c",
   "metadata": {},
   "outputs": [
    {
     "data": {
      "text/plain": [
       "LA         1355240\n",
       "Orange      519749\n",
       "Ventura     158183\n",
       "Name: county, dtype: int64"
      ]
     },
     "execution_count": 25,
     "metadata": {},
     "output_type": "execute_result"
    }
   ],
   "source": [
    "df.county.value_counts()"
   ]
  },
  {
   "cell_type": "code",
   "execution_count": 26,
   "id": "c7fb2618",
   "metadata": {},
   "outputs": [
    {
     "data": {
      "image/png": "[encoded data removed]",
      "text/plain": [
       "<Figure size 640x480 with 1 Axes>"
      ]
     },
     "metadata": {},
     "output_type": "display_data"
    }
   ],
   "source": [
    "# fips is more of a categorical variable; casting it as a string made it work better with histplot\n",
    "# fips has only 3 unique values: 6037 ('LA'), 6059 ('Orange') , 6111 ('Ventura')\n",
    "sns.histplot(data=df.county)\n",
    "# plt.ylabel('count')\n",
    "# plt.xlabel('fips')\n",
    "plt.show()"
   ]
  },
  {
   "cell_type": "code",
   "execution_count": 27,
   "id": "08be365a",
   "metadata": {},
   "outputs": [],
   "source": [
    "# I wasn't supposed to do this until after splitting!\n",
    "# mean values for each column broken down by fips code\n",
    "# for fip in df.fips.unique():\n",
    "#     for col in df.drop(columns=['bedrooms','bathrooms','year_built','fips']).columns:\n",
    "#         print(f'{fip}   mean {col}: {df[df.fips == fip][col].mean()}')\n",
    "#         print(f'{fip} median {col}: {df[df.fips == fip][col].median()}')\n",
    "#     print()"
   ]
  },
  {
   "cell_type": "code",
   "execution_count": 28,
   "id": "0d97c6d9",
   "metadata": {
    "scrolled": false
   },
   "outputs": [
    {
     "name": "stdout",
     "output_type": "stream",
     "text": [
      "bedrooms\n"
     ]
    },
    {
     "data": {
      "image/png": "[encoded data removed]",
      "text/plain": [
       "<Figure size 640x480 with 1 Axes>"
      ]
     },
     "metadata": {},
     "output_type": "display_data"
    },
    {
     "name": "stdout",
     "output_type": "stream",
     "text": [
      "bathrooms\n"
     ]
    },
    {
     "data": {
      "image/png": "[encoded data removed]",
      "text/plain": [
       "<Figure size 640x480 with 1 Axes>"
      ]
     },
     "metadata": {},
     "output_type": "display_data"
    },
    {
     "name": "stdout",
     "output_type": "stream",
     "text": [
      "square_feet\n"
     ]
    },
    {
     "data": {
      "image/png": "[encoded data removed]",
      "text/plain": [
       "<Figure size 640x480 with 1 Axes>"
      ]
     },
     "metadata": {},
     "output_type": "display_data"
    },
    {
     "name": "stdout",
     "output_type": "stream",
     "text": [
      "tax_value\n"
     ]
    },
    {
     "data": {
      "image/png": "[encoded data removed]",
      "text/plain": [
       "<Figure size 640x480 with 1 Axes>"
      ]
     },
     "metadata": {},
     "output_type": "display_data"
    },
    {
     "name": "stdout",
     "output_type": "stream",
     "text": [
      "year_built\n"
     ]
    },
    {
     "data": {
      "image/png": "[encoded data removed]",
      "text/plain": [
       "<Figure size 640x480 with 1 Axes>"
      ]
     },
     "metadata": {},
     "output_type": "display_data"
    },
    {
     "name": "stdout",
     "output_type": "stream",
     "text": [
      "tax_amount\n"
     ]
    },
    {
     "data": {
      "image/png": "[encoded data removed]",
      "text/plain": [
       "<Figure size 640x480 with 1 Axes>"
      ]
     },
     "metadata": {},
     "output_type": "display_data"
    }
   ],
   "source": [
    "# boxplots for all numerica columns (everything but fips)\n",
    "for col in (df.drop(columns='county').columns):\n",
    "    print (col)\n",
    "    sns.boxplot(data=df, x=col)\n",
    "    plt.show()\n",
    "    "
   ]
  },
  {
   "cell_type": "code",
   "execution_count": 29,
   "id": "23e011cc",
   "metadata": {},
   "outputs": [],
   "source": [
    "# After visualization, I've decided to drop some outliers\n",
    "# - square_feet> 25_000 AND the top 5% of tax_values\n",
    "# df = df [df.square_feet < 25_000]"
   ]
  },
  {
   "cell_type": "code",
   "execution_count": 30,
   "id": "4237c6e4",
   "metadata": {},
   "outputs": [],
   "source": [
    "# df = df [df.tax_value < df.tax_value.quantile(.95)]"
   ]
  },
  {
   "cell_type": "markdown",
   "id": "030e9d8d",
   "metadata": {},
   "source": [
    "# Summary of initial look at data\n",
    "- 2152863 rows prior to cleaning\n",
    "- 2033172 rows after cleaning\n",
    "- nulls represented < 1% of data, so I removed them\n",
    "- 7 columns: 6 numeric, 1 categorical\n",
    "- changed all numeric columns to int except bathrooms which stayed float\n",
    "- one numeric column, fips, is actually categorical, and it has 3 unique values: 6037, 6059, 6111\n",
    "    - fips represents a region code akin to zip code (fips stands for federal information processing system)\n",
    "    - 6037 == '06037' which is Los Angeles County in CA\n",
    "    - 6059 == '06059' which is Orange County, CA\n",
    "    - 6111 == '06111' which is Ventura County, CA\n",
    "\n",
    "- each row is a \"Single Family Residential\" property from a 2017 Zillow database\n",
    "- each column is an attribute of that house. All columns are numeric\n",
    "- most numeric columns have normally distributed values with right skew (right tails, mean greater than median)\n",
    "    - which indicates a smaller number of higher values (square feet, tax_value, etc.)\n",
    "    - which also indicates that a small number of these properties are big/high-value \"mansion\" type houses\n",
    "- fips distribution:\n",
    "    - 1.4 M homes in 6037 (LA County)\n",
    "    -  .6 M homes in 6059 (Orange County) \n",
    "    -  .15M homes in 6111 (Ventura County)\n",
    "\n",
    "- Outliers\n",
    "- I chose to discard rows with square_feet >= 25,000\n",
    "    - there were two homes with ludicrous high square_footages\n",
    "- I also chose to discard rows that were in the top 5% of tax_value\n",
    "    - there were some very expensive homes compared to most homes)"
   ]
  },
  {
   "cell_type": "code",
   "execution_count": 31,
   "id": "78d64913",
   "metadata": {},
   "outputs": [
    {
     "name": "stdout",
     "output_type": "stream",
     "text": [
      "csv file found and read\n"
     ]
    }
   ],
   "source": [
    "df = w.wrangle_zillow()"
   ]
  },
  {
   "cell_type": "code",
   "execution_count": 32,
   "id": "e2ad7703",
   "metadata": {},
   "outputs": [
    {
     "data": {
      "text/plain": [
       "(2033172, 7)"
      ]
     },
     "execution_count": 32,
     "metadata": {},
     "output_type": "execute_result"
    }
   ],
   "source": [
    "df.shape"
   ]
  },
  {
   "cell_type": "code",
   "execution_count": 33,
   "id": "e8425fb9",
   "metadata": {},
   "outputs": [
    {
     "name": "stdout",
     "output_type": "stream",
     "text": [
      "Prepared df: (2033172, 7)\n",
      "\n",
      "Train: (1219902, 7)\n",
      "Validate: (406635, 7)\n",
      "Test: (406635, 7)\n"
     ]
    }
   ],
   "source": [
    "train, validate, test = w.split_function(df)"
   ]
  }
 ],
 "metadata": {
  "kernelspec": {
   "display_name": "Python 3 (ipykernel)",
   "language": "python",
   "name": "python3"
  },
  "language_info": {
   "codemirror_mode": {
    "name": "ipython",
    "version": 3
   },
   "file_extension": ".py",
   "mimetype": "text/x-python",
   "name": "python",
   "nbconvert_exporter": "python",
   "pygments_lexer": "ipython3",
   "version": "3.9.13"
  }
 },
 "nbformat": 4,
 "nbformat_minor": 5
}
