{
 "cells": [
  {
   "cell_type": "code",
   "execution_count": 1,
   "id": "5f5feaa2",
   "metadata": {},
   "outputs": [],
   "source": [
    "# Imports\n",
    "from env import host, user, password\n",
    "import os\n",
    "\n",
    "import numpy as np\n",
    "import pandas as pd\n",
    "\n",
    "import sklearn.preprocessing\n",
    "\n",
    "import matplotlib.pyplot as plt\n",
    "import seaborn as sns\n",
    "\n",
    "import wrangle as w\n",
    "np.random.seed(42)"
   ]
  },
  {
   "cell_type": "code",
   "execution_count": 2,
   "id": "4e51a66e",
   "metadata": {},
   "outputs": [
    {
     "name": "stdout",
     "output_type": "stream",
     "text": [
      "csv file found and read\n"
     ]
    }
   ],
   "source": [
    "df = w.wrangle_zillow()"
   ]
  },
  {
   "cell_type": "code",
   "execution_count": 3,
   "id": "71acc80c",
   "metadata": {},
   "outputs": [
    {
     "name": "stdout",
     "output_type": "stream",
     "text": [
      "Prepared df: (2033172, 9)\n",
      "\n",
      "Train: (1219902, 9)\n",
      "Validate: (406635, 9)\n",
      "Test: (406635, 9)\n"
     ]
    },
    {
     "data": {
      "text/html": [
       "<div>\n",
       "<style scoped>\n",
       "    .dataframe tbody tr th:only-of-type {\n",
       "        vertical-align: middle;\n",
       "    }\n",
       "\n",
       "    .dataframe tbody tr th {\n",
       "        vertical-align: top;\n",
       "    }\n",
       "\n",
       "    .dataframe thead th {\n",
       "        text-align: right;\n",
       "    }\n",
       "</style>\n",
       "<table border=\"1\" class=\"dataframe\">\n",
       "  <thead>\n",
       "    <tr style=\"text-align: right;\">\n",
       "      <th></th>\n",
       "      <th>bedrooms</th>\n",
       "      <th>bathrooms</th>\n",
       "      <th>square_feet</th>\n",
       "      <th>year_built</th>\n",
       "      <th>tax_amount</th>\n",
       "      <th>county</th>\n",
       "      <th>tax_value</th>\n",
       "      <th>county_Orange</th>\n",
       "      <th>county_Ventura</th>\n",
       "    </tr>\n",
       "  </thead>\n",
       "  <tbody>\n",
       "    <tr>\n",
       "      <th>789918</th>\n",
       "      <td>2</td>\n",
       "      <td>1.0</td>\n",
       "      <td>777</td>\n",
       "      <td>1946</td>\n",
       "      <td>4230</td>\n",
       "      <td>LA</td>\n",
       "      <td>350556</td>\n",
       "      <td>0</td>\n",
       "      <td>0</td>\n",
       "    </tr>\n",
       "    <tr>\n",
       "      <th>1696225</th>\n",
       "      <td>2</td>\n",
       "      <td>1.0</td>\n",
       "      <td>1014</td>\n",
       "      <td>1938</td>\n",
       "      <td>2567</td>\n",
       "      <td>LA</td>\n",
       "      <td>192599</td>\n",
       "      <td>0</td>\n",
       "      <td>0</td>\n",
       "    </tr>\n",
       "    <tr>\n",
       "      <th>1720742</th>\n",
       "      <td>3</td>\n",
       "      <td>2.0</td>\n",
       "      <td>1762</td>\n",
       "      <td>1958</td>\n",
       "      <td>5566</td>\n",
       "      <td>Orange</td>\n",
       "      <td>480000</td>\n",
       "      <td>1</td>\n",
       "      <td>0</td>\n",
       "    </tr>\n",
       "    <tr>\n",
       "      <th>962447</th>\n",
       "      <td>1</td>\n",
       "      <td>1.0</td>\n",
       "      <td>616</td>\n",
       "      <td>1952</td>\n",
       "      <td>1694</td>\n",
       "      <td>LA</td>\n",
       "      <td>131512</td>\n",
       "      <td>0</td>\n",
       "      <td>0</td>\n",
       "    </tr>\n",
       "    <tr>\n",
       "      <th>324076</th>\n",
       "      <td>3</td>\n",
       "      <td>2.0</td>\n",
       "      <td>1495</td>\n",
       "      <td>1954</td>\n",
       "      <td>1064</td>\n",
       "      <td>LA</td>\n",
       "      <td>84031</td>\n",
       "      <td>0</td>\n",
       "      <td>0</td>\n",
       "    </tr>\n",
       "  </tbody>\n",
       "</table>\n",
       "</div>"
      ],
      "text/plain": [
       "         bedrooms  bathrooms  square_feet  year_built  tax_amount  county  \\\n",
       "789918          2        1.0          777        1946        4230      LA   \n",
       "1696225         2        1.0         1014        1938        2567      LA   \n",
       "1720742         3        2.0         1762        1958        5566  Orange   \n",
       "962447          1        1.0          616        1952        1694      LA   \n",
       "324076          3        2.0         1495        1954        1064      LA   \n",
       "\n",
       "         tax_value  county_Orange  county_Ventura  \n",
       "789918      350556              0               0  \n",
       "1696225     192599              0               0  \n",
       "1720742     480000              1               0  \n",
       "962447      131512              0               0  \n",
       "324076       84031              0               0  "
      ]
     },
     "execution_count": 3,
     "metadata": {},
     "output_type": "execute_result"
    }
   ],
   "source": [
    "train, validate, test = w.split_function(df)\n",
    "train.head()"
   ]
  },
  {
   "cell_type": "markdown",
   "id": "aa29d8a9",
   "metadata": {},
   "source": [
    "# 1. Apply the scalers we talked about in this lesson to your data and visualize the results for the unscaled and scaled distribution"
   ]
  },
  {
   "cell_type": "code",
   "execution_count": 4,
   "id": "d582202a",
   "metadata": {},
   "outputs": [],
   "source": [
    "to_scale = ['bedrooms', 'bathrooms', 'square_feet', 'year_built', 'tax_amount']\n"
   ]
  },
  {
   "cell_type": "code",
   "execution_count": 5,
   "id": "b9f4c89a",
   "metadata": {},
   "outputs": [],
   "source": [
    "def get_minmax_scaled (train, validate, test, columns_to_scale):\n",
    "    \"\"\" \n",
    "    This function will\n",
    "    - accept train, validate, test, and which columns are to be scaled\n",
    "    - makes minmax scaler, fits scaler on train columns\n",
    "    - returns 3 scaled dataframes; one for train/validate/test\n",
    "    \"\"\"\n",
    "    # make copies for scaling\n",
    "    train_scaled = train.copy()\n",
    "    validate_scaled = validate.copy()\n",
    "    test_scaled = test.copy()\n",
    "    \n",
    "    # make and fit minmax scaler\n",
    "    scaler = sklearn.preprocessing.MinMaxScaler()\n",
    "    scaler.fit(train[columns_to_scale])\n",
    "\n",
    "    # use the thing\n",
    "    train_scaled[columns_to_scale] = scaler.transform(train[columns_to_scale])\n",
    "    validate_scaled[columns_to_scale] = scaler.transform(validate[columns_to_scale])\n",
    "    test_scaled[columns_to_scale] = scaler.transform(test[columns_to_scale])\n",
    "    \n",
    "    return train_scaled, validate_scaled, test_scaled"
   ]
  },
  {
   "cell_type": "code",
   "execution_count": 6,
   "id": "9b7668ae",
   "metadata": {},
   "outputs": [],
   "source": [
    "train_scaled, validate_scaled, test_scaled = get_minmax_scaled(train, validate, test, to_scale)"
   ]
  },
  {
   "cell_type": "code",
   "execution_count": 7,
   "id": "77c7e222",
   "metadata": {},
   "outputs": [
    {
     "data": {
      "text/html": [
       "<div>\n",
       "<style scoped>\n",
       "    .dataframe tbody tr th:only-of-type {\n",
       "        vertical-align: middle;\n",
       "    }\n",
       "\n",
       "    .dataframe tbody tr th {\n",
       "        vertical-align: top;\n",
       "    }\n",
       "\n",
       "    .dataframe thead th {\n",
       "        text-align: right;\n",
       "    }\n",
       "</style>\n",
       "<table border=\"1\" class=\"dataframe\">\n",
       "  <thead>\n",
       "    <tr style=\"text-align: right;\">\n",
       "      <th></th>\n",
       "      <th>bedrooms</th>\n",
       "      <th>bathrooms</th>\n",
       "      <th>square_feet</th>\n",
       "      <th>year_built</th>\n",
       "      <th>tax_amount</th>\n",
       "      <th>county</th>\n",
       "      <th>tax_value</th>\n",
       "      <th>county_Orange</th>\n",
       "      <th>county_Ventura</th>\n",
       "    </tr>\n",
       "  </thead>\n",
       "  <tbody>\n",
       "    <tr>\n",
       "      <th>789918</th>\n",
       "      <td>2</td>\n",
       "      <td>1.0</td>\n",
       "      <td>777</td>\n",
       "      <td>1946</td>\n",
       "      <td>4230</td>\n",
       "      <td>LA</td>\n",
       "      <td>350556</td>\n",
       "      <td>0</td>\n",
       "      <td>0</td>\n",
       "    </tr>\n",
       "    <tr>\n",
       "      <th>1696225</th>\n",
       "      <td>2</td>\n",
       "      <td>1.0</td>\n",
       "      <td>1014</td>\n",
       "      <td>1938</td>\n",
       "      <td>2567</td>\n",
       "      <td>LA</td>\n",
       "      <td>192599</td>\n",
       "      <td>0</td>\n",
       "      <td>0</td>\n",
       "    </tr>\n",
       "    <tr>\n",
       "      <th>1720742</th>\n",
       "      <td>3</td>\n",
       "      <td>2.0</td>\n",
       "      <td>1762</td>\n",
       "      <td>1958</td>\n",
       "      <td>5566</td>\n",
       "      <td>Orange</td>\n",
       "      <td>480000</td>\n",
       "      <td>1</td>\n",
       "      <td>0</td>\n",
       "    </tr>\n",
       "    <tr>\n",
       "      <th>962447</th>\n",
       "      <td>1</td>\n",
       "      <td>1.0</td>\n",
       "      <td>616</td>\n",
       "      <td>1952</td>\n",
       "      <td>1694</td>\n",
       "      <td>LA</td>\n",
       "      <td>131512</td>\n",
       "      <td>0</td>\n",
       "      <td>0</td>\n",
       "    </tr>\n",
       "    <tr>\n",
       "      <th>324076</th>\n",
       "      <td>3</td>\n",
       "      <td>2.0</td>\n",
       "      <td>1495</td>\n",
       "      <td>1954</td>\n",
       "      <td>1064</td>\n",
       "      <td>LA</td>\n",
       "      <td>84031</td>\n",
       "      <td>0</td>\n",
       "      <td>0</td>\n",
       "    </tr>\n",
       "  </tbody>\n",
       "</table>\n",
       "</div>"
      ],
      "text/plain": [
       "         bedrooms  bathrooms  square_feet  year_built  tax_amount  county  \\\n",
       "789918          2        1.0          777        1946        4230      LA   \n",
       "1696225         2        1.0         1014        1938        2567      LA   \n",
       "1720742         3        2.0         1762        1958        5566  Orange   \n",
       "962447          1        1.0          616        1952        1694      LA   \n",
       "324076          3        2.0         1495        1954        1064      LA   \n",
       "\n",
       "         tax_value  county_Orange  county_Ventura  \n",
       "789918      350556              0               0  \n",
       "1696225     192599              0               0  \n",
       "1720742     480000              1               0  \n",
       "962447      131512              0               0  \n",
       "324076       84031              0               0  "
      ]
     },
     "execution_count": 7,
     "metadata": {},
     "output_type": "execute_result"
    }
   ],
   "source": [
    "train.head()"
   ]
  },
  {
   "cell_type": "code",
   "execution_count": 8,
   "id": "a4765f9d",
   "metadata": {},
   "outputs": [
    {
     "data": {
      "text/html": [
       "<div>\n",
       "<style scoped>\n",
       "    .dataframe tbody tr th:only-of-type {\n",
       "        vertical-align: middle;\n",
       "    }\n",
       "\n",
       "    .dataframe tbody tr th {\n",
       "        vertical-align: top;\n",
       "    }\n",
       "\n",
       "    .dataframe thead th {\n",
       "        text-align: right;\n",
       "    }\n",
       "</style>\n",
       "<table border=\"1\" class=\"dataframe\">\n",
       "  <thead>\n",
       "    <tr style=\"text-align: right;\">\n",
       "      <th></th>\n",
       "      <th>bedrooms</th>\n",
       "      <th>bathrooms</th>\n",
       "      <th>square_feet</th>\n",
       "      <th>year_built</th>\n",
       "      <th>tax_amount</th>\n",
       "      <th>county</th>\n",
       "      <th>tax_value</th>\n",
       "      <th>county_Orange</th>\n",
       "      <th>county_Ventura</th>\n",
       "    </tr>\n",
       "  </thead>\n",
       "  <tbody>\n",
       "    <tr>\n",
       "      <th>789918</th>\n",
       "      <td>0.1250</td>\n",
       "      <td>0.05</td>\n",
       "      <td>0.032041</td>\n",
       "      <td>0.674419</td>\n",
       "      <td>0.042016</td>\n",
       "      <td>LA</td>\n",
       "      <td>350556</td>\n",
       "      <td>0</td>\n",
       "      <td>0</td>\n",
       "    </tr>\n",
       "    <tr>\n",
       "      <th>1696225</th>\n",
       "      <td>0.1250</td>\n",
       "      <td>0.05</td>\n",
       "      <td>0.041827</td>\n",
       "      <td>0.637209</td>\n",
       "      <td>0.025447</td>\n",
       "      <td>LA</td>\n",
       "      <td>192599</td>\n",
       "      <td>0</td>\n",
       "      <td>0</td>\n",
       "    </tr>\n",
       "    <tr>\n",
       "      <th>1720742</th>\n",
       "      <td>0.1875</td>\n",
       "      <td>0.10</td>\n",
       "      <td>0.072712</td>\n",
       "      <td>0.730233</td>\n",
       "      <td>0.055328</td>\n",
       "      <td>Orange</td>\n",
       "      <td>480000</td>\n",
       "      <td>1</td>\n",
       "      <td>0</td>\n",
       "    </tr>\n",
       "    <tr>\n",
       "      <th>962447</th>\n",
       "      <td>0.0625</td>\n",
       "      <td>0.05</td>\n",
       "      <td>0.025393</td>\n",
       "      <td>0.702326</td>\n",
       "      <td>0.016749</td>\n",
       "      <td>LA</td>\n",
       "      <td>131512</td>\n",
       "      <td>0</td>\n",
       "      <td>0</td>\n",
       "    </tr>\n",
       "    <tr>\n",
       "      <th>324076</th>\n",
       "      <td>0.1875</td>\n",
       "      <td>0.10</td>\n",
       "      <td>0.061687</td>\n",
       "      <td>0.711628</td>\n",
       "      <td>0.010472</td>\n",
       "      <td>LA</td>\n",
       "      <td>84031</td>\n",
       "      <td>0</td>\n",
       "      <td>0</td>\n",
       "    </tr>\n",
       "  </tbody>\n",
       "</table>\n",
       "</div>"
      ],
      "text/plain": [
       "         bedrooms  bathrooms  square_feet  year_built  tax_amount  county  \\\n",
       "789918     0.1250       0.05     0.032041    0.674419    0.042016      LA   \n",
       "1696225    0.1250       0.05     0.041827    0.637209    0.025447      LA   \n",
       "1720742    0.1875       0.10     0.072712    0.730233    0.055328  Orange   \n",
       "962447     0.0625       0.05     0.025393    0.702326    0.016749      LA   \n",
       "324076     0.1875       0.10     0.061687    0.711628    0.010472      LA   \n",
       "\n",
       "         tax_value  county_Orange  county_Ventura  \n",
       "789918      350556              0               0  \n",
       "1696225     192599              0               0  \n",
       "1720742     480000              1               0  \n",
       "962447      131512              0               0  \n",
       "324076       84031              0               0  "
      ]
     },
     "execution_count": 8,
     "metadata": {},
     "output_type": "execute_result"
    }
   ],
   "source": [
    "train_scaled.head()"
   ]
  },
  {
   "cell_type": "code",
   "execution_count": 9,
   "id": "d124cfa3",
   "metadata": {
    "scrolled": true
   },
   "outputs": [],
   "source": [
    "# visualizing original and scaled columns\n",
    "def get_scaled_visuals(train, train_scaled, columns_to_visualize):\n",
    "    \"\"\"\n",
    "    This function will\n",
    "    - accept train and train_scaled and which columns to visualize\n",
    "    - utilize plt.hist to visualize the orginal and the scaled values\n",
    "    \"\"\"\n",
    "    for col in columns_to_visualize:\n",
    "        plt.figure(figsize=(13,6))\n",
    "\n",
    "        plt.subplot(121)\n",
    "        plt.hist(train[col])\n",
    "        plt.title('Original')\n",
    "        plt.xlabel(col)\n",
    "\n",
    "        plt.subplot(122)\n",
    "        plt.hist(train_scaled[col])\n",
    "        plt.title('Scaled')\n",
    "        plt.xlabel(col)\n",
    "\n",
    "        plt.show()"
   ]
  },
  {
   "cell_type": "markdown",
   "id": "49b8731c",
   "metadata": {},
   "source": [
    "## Visuals for MinMaxScaler"
   ]
  },
  {
   "cell_type": "code",
   "execution_count": 10,
   "id": "2c5c9113",
   "metadata": {
    "scrolled": true
   },
   "outputs": [
    {
     "data": {
      "image/png": "[encoded data removed]",
      "text/plain": [
       "<Figure size 1300x600 with 2 Axes>"
      ]
     },
     "metadata": {},
     "output_type": "display_data"
    },
    {
     "data": {
      "image/png": "[encoded data removed]",
      "text/plain": [
       "<Figure size 1300x600 with 2 Axes>"
      ]
     },
     "metadata": {},
     "output_type": "display_data"
    },
    {
     "data": {
      "image/png": "[encoded data removed]",
      "text/plain": [
       "<Figure size 1300x600 with 2 Axes>"
      ]
     },
     "metadata": {},
     "output_type": "display_data"
    },
    {
     "data": {
      "image/png": "[encoded data removed]",
      "text/plain": [
       "<Figure size 1300x600 with 2 Axes>"
      ]
     },
     "metadata": {},
     "output_type": "display_data"
    },
    {
     "data": {
      "image/png": "[encoded data removed]",
      "text/plain": [
       "<Figure size 1300x600 with 2 Axes>"
      ]
     },
     "metadata": {},
     "output_type": "display_data"
    }
   ],
   "source": [
    "get_scaled_visuals(train, train_scaled, to_scale)"
   ]
  },
  {
   "cell_type": "code",
   "execution_count": null,
   "id": "8e8042cc",
   "metadata": {},
   "outputs": [],
   "source": [
    "##### START HERE AND MAKE LIKE THE ONE ABOVE #####\n",
    "\n",
    "def get_standard_scaled_X (X_train, X_validate, X_test):\n",
    "    \"\"\" \n",
    "    This function will\n",
    "    - accept X_train/validate/test ready for scaling\n",
    "    - makes minmax scaler, fits scaler on X_train\n",
    "    - returns 3 scaled dataframes; one for X_train/validate/test\n",
    "    \"\"\"\n",
    "    # make and fit minmax scaler\n",
    "    scaler = sklearn.preprocessing.StandardScaler()\n",
    "    scaler.fit(X_train)\n",
    "    \n",
    "    # set columns\n",
    "    cols = X_train.columns\n",
    "\n",
    "    # initialize scaled dataframes\n",
    "    X_train_scaled = pd.DataFrame(columns=cols)\n",
    "    X_validate_scaled = pd.DataFrame(columns=cols)\n",
    "    X_test_scaled = pd.DataFrame(columns=cols)\n",
    "\n",
    "    X_train_scaled[cols] = scaler.transform(X_train).copy()\n",
    "    X_validate_scaled[cols] = scaler.transform(X_validate).copy()\n",
    "    X_test_scaled[cols] = scaler.transform(X_test).copy()\n",
    "    \n",
    "    return X_train_scaled, X_validate_scaled, X_test_scaled"
   ]
  },
  {
   "cell_type": "code",
   "execution_count": null,
   "id": "d3d8cb0b",
   "metadata": {},
   "outputs": [],
   "source": [
    "X_train_scaled, X_validate_scaled, X_test_scaled = get_standard_scaled_X (X_train[columns_to_scale],\n",
    "                                                                X_validate[columns_to_scale],\n",
    "                                                                X_test[columns_to_scale])\n",
    "X_train_scaled.describe()"
   ]
  },
  {
   "cell_type": "markdown",
   "id": "5d7054eb",
   "metadata": {},
   "source": [
    "## Visuals for StandardScaler"
   ]
  },
  {
   "cell_type": "code",
   "execution_count": null,
   "id": "edb7befa",
   "metadata": {
    "scrolled": true
   },
   "outputs": [],
   "source": [
    "get_scaled_visuals(X_train[columns_to_scale], X_train_scaled)"
   ]
  },
  {
   "cell_type": "code",
   "execution_count": null,
   "id": "6268e451",
   "metadata": {},
   "outputs": [],
   "source": [
    "def get_robust_scaled_X (X_train, X_validate, X_test):\n",
    "    \"\"\" \n",
    "    This function will\n",
    "    - accept X_train/validate/test ready for scaling\n",
    "    - makes minmax scaler, fits scaler on X_train\n",
    "    - returns 3 scaled dataframes; one for X_train/validate/test\n",
    "    \"\"\"\n",
    "    # make and fit minmax scaler\n",
    "    scaler = sklearn.preprocessing.RobustScaler()\n",
    "    scaler.fit(X_train)\n",
    "    \n",
    "    # set columns\n",
    "    cols = X_train.columns\n",
    "\n",
    "    # initialize scaled dataframes\n",
    "    X_train_scaled = pd.DataFrame(columns=cols)\n",
    "    X_validate_scaled = pd.DataFrame(columns=cols)\n",
    "    X_test_scaled = pd.DataFrame(columns=cols)\n",
    "\n",
    "    X_train_scaled[cols] = scaler.transform(X_train).copy()\n",
    "    X_validate_scaled[cols] = scaler.transform(X_validate).copy()\n",
    "    X_test_scaled[cols] = scaler.transform(X_test).copy()\n",
    "    \n",
    "    return X_train_scaled, X_validate_scaled, X_test_scaled"
   ]
  },
  {
   "cell_type": "code",
   "execution_count": null,
   "id": "d4e8f6e3",
   "metadata": {},
   "outputs": [],
   "source": [
    "X_train_scaled, X_validate_scaled, X_test_scaled = get_robust_scaled_X (X_train[columns_to_scale],\n",
    "                                                                X_validate[columns_to_scale],\n",
    "                                                                X_test[columns_to_scale])\n",
    "X_train_scaled.describe()"
   ]
  },
  {
   "cell_type": "markdown",
   "id": "ab387c15",
   "metadata": {},
   "source": [
    "## Visuals for RobustScaler"
   ]
  },
  {
   "cell_type": "code",
   "execution_count": null,
   "id": "4f39ef9c",
   "metadata": {
    "scrolled": true
   },
   "outputs": [],
   "source": [
    "get_scaled_visuals(X_train[columns_to_scale], X_train_scaled)"
   ]
  },
  {
   "cell_type": "markdown",
   "id": "eff3641e",
   "metadata": {},
   "source": [
    "# 2. Apply the .inverse_transform method to your scaled data. Is the resulting dataset the exact same as the original data?\n",
    "## Answer: Looks very similar except all data types are now floats"
   ]
  },
  {
   "cell_type": "code",
   "execution_count": null,
   "id": "dabb41f2",
   "metadata": {},
   "outputs": [],
   "source": [
    "# looking at .inverse_transform; \n",
    "# first need to get a scaler and scale data (previously this is all done inside functions)\n",
    "\n",
    "# set columns\n",
    "cols = ['bedrooms', 'bathrooms', 'square_feet', 'year_built', 'tax_amount']\n",
    "\n",
    "# make and fit minmax scaler\n",
    "scaler = sklearn.preprocessing.RobustScaler()\n",
    "scaler.fit(X_train[cols])\n",
    "\n",
    "# initialize scaled dataframes\n",
    "X_train_scaled = pd.DataFrame(columns=cols)\n",
    "X_validate_scaled = pd.DataFrame(columns=cols)\n",
    "X_test_scaled = pd.DataFrame(columns=cols)\n",
    "\n",
    "X_train_scaled[cols] = scaler.transform(X_train[cols]).copy()\n",
    "X_validate_scaled[cols] = scaler.transform(X_validate[cols]).copy()\n",
    "X_test_scaled[cols] = scaler.transform(X_test[cols]).copy()"
   ]
  },
  {
   "cell_type": "code",
   "execution_count": null,
   "id": "549a7bc8",
   "metadata": {},
   "outputs": [],
   "source": [
    "X_train.head()"
   ]
  },
  {
   "cell_type": "code",
   "execution_count": null,
   "id": "4a43eb0f",
   "metadata": {},
   "outputs": [],
   "source": [
    "X_train_scaled.head()"
   ]
  },
  {
   "cell_type": "code",
   "execution_count": null,
   "id": "75ce857c",
   "metadata": {},
   "outputs": [],
   "source": [
    "X_train_scaled.info()"
   ]
  },
  {
   "cell_type": "code",
   "execution_count": null,
   "id": "4694193f",
   "metadata": {},
   "outputs": [],
   "source": [
    "inverse_df = pd.DataFrame(columns=cols)\n",
    "inverse_df[cols] = scaler.inverse_transform(X_train_scaled)"
   ]
  },
  {
   "cell_type": "code",
   "execution_count": null,
   "id": "f3bb1ff9",
   "metadata": {},
   "outputs": [],
   "source": [
    "inverse_df.head()"
   ]
  },
  {
   "cell_type": "code",
   "execution_count": null,
   "id": "63db874f",
   "metadata": {},
   "outputs": [],
   "source": [
    "inverse_df.info()"
   ]
  },
  {
   "cell_type": "code",
   "execution_count": null,
   "id": "a125e1ad",
   "metadata": {
    "scrolled": true
   },
   "outputs": [],
   "source": [
    "get_scaled_visuals(X_train[columns_to_scale], inverse_df)"
   ]
  },
  {
   "cell_type": "markdown",
   "id": "2acb5816",
   "metadata": {},
   "source": [
    "# 3. Read the documentation for sklearn's QuantileTransformer. Use normal for the ouput_distribution and apply this scaler to your data. Visualize the result of your data scaling.\n",
    "\n",
    "# 4. Use the QuantileTransformer, but omit the output_distribution argument. Visualize your results. What do you notice?\n",
    "\n",
    "## I didn't notice much. (Makes me wonder if I did it right.)"
   ]
  },
  {
   "cell_type": "code",
   "execution_count": null,
   "id": "69c55fd9",
   "metadata": {},
   "outputs": [],
   "source": [
    "scaler = sklearn.preprocessing.QuantileTransformer(output_distribution='normal')"
   ]
  },
  {
   "cell_type": "code",
   "execution_count": null,
   "id": "910d8d7b",
   "metadata": {},
   "outputs": [],
   "source": [
    "scaler.fit(X_train[cols])"
   ]
  },
  {
   "cell_type": "code",
   "execution_count": null,
   "id": "e2b4749c",
   "metadata": {},
   "outputs": [],
   "source": [
    "# set columns\n",
    "cols = ['bedrooms', 'bathrooms', 'square_feet', 'year_built', 'tax_amount']\n",
    "\n",
    "# initialize scaled dataframes\n",
    "X_train_scaled = pd.DataFrame(columns=cols)\n",
    "X_validate_scaled = pd.DataFrame(columns=cols)\n",
    "X_test_scaled = pd.DataFrame(columns=cols)\n",
    "\n",
    "X_train_scaled[cols] = scaler.transform(X_train[cols]).copy()\n",
    "X_validate_scaled[cols] = scaler.transform(X_validate[cols]).copy()\n",
    "X_test_scaled[cols] = scaler.transform(X_test[cols]).copy()"
   ]
  },
  {
   "cell_type": "code",
   "execution_count": null,
   "id": "c9c3807a",
   "metadata": {
    "scrolled": false
   },
   "outputs": [],
   "source": [
    "get_scaled_visuals(X_train[cols], X_train_scaled)"
   ]
  },
  {
   "cell_type": "code",
   "execution_count": null,
   "id": "48480e89",
   "metadata": {},
   "outputs": [],
   "source": [
    "X_train_scaled.describe()"
   ]
  },
  {
   "cell_type": "code",
   "execution_count": null,
   "id": "aa6d2b74",
   "metadata": {},
   "outputs": [],
   "source": [
    "scaler = sklearn.preprocessing.QuantileTransformer(output_distribution='uniform')\n",
    "scaler.fit(X_train[cols])"
   ]
  },
  {
   "cell_type": "code",
   "execution_count": null,
   "id": "e521ab26",
   "metadata": {},
   "outputs": [],
   "source": [
    "# set columns\n",
    "cols = ['bedrooms', 'bathrooms', 'square_feet', 'year_built', 'tax_amount']\n",
    "\n",
    "# initialize scaled dataframes\n",
    "X_train_scaled = pd.DataFrame(columns=cols)\n",
    "X_validate_scaled = pd.DataFrame(columns=cols)\n",
    "X_test_scaled = pd.DataFrame(columns=cols)\n",
    "\n",
    "X_train_scaled[cols] = scaler.transform(X_train[cols]).copy()\n",
    "X_validate_scaled[cols] = scaler.transform(X_validate[cols]).copy()\n",
    "X_test_scaled[cols] = scaler.transform(X_test[cols]).copy()"
   ]
  },
  {
   "cell_type": "code",
   "execution_count": null,
   "id": "3d6ca116",
   "metadata": {
    "scrolled": false
   },
   "outputs": [],
   "source": [
    "get_scaled_visuals(X_train[cols], X_train_scaled)"
   ]
  },
  {
   "cell_type": "markdown",
   "id": "5dc39e60",
   "metadata": {},
   "source": [
    "# Based on the work you've done, choose a scaling method for your dataset. Write a function within your prepare.py that accepts as input the train, validate, and test data splits, and returns the scaled versions of each. Be sure to only learn the parameters for scaling from your training data!\n",
    "\n",
    "## I think MinMaxScaler looks good."
   ]
  },
  {
   "cell_type": "code",
   "execution_count": null,
   "id": "f929888e",
   "metadata": {},
   "outputs": [],
   "source": [
    "df = w.wrangle_zillow()\n",
    "train, validate, test = w.split_function(df)"
   ]
  },
  {
   "cell_type": "code",
   "execution_count": null,
   "id": "cb755e0f",
   "metadata": {},
   "outputs": [],
   "source": [
    "train.head()"
   ]
  },
  {
   "cell_type": "code",
   "execution_count": null,
   "id": "1cb637e0",
   "metadata": {},
   "outputs": [],
   "source": [
    "def get_zillow_scaled(train, validate, test):\n",
    "    \"\"\"\n",
    "    This function will\n",
    "    - accept train, validate, test\n",
    "    - make a MinMaxScaler\n",
    "        - fit that scaler to train\n",
    "        - use it to scale train/validate/test scaling columns\n",
    "        - columns to scale are ['bedrooms', 'bathrooms', 'square_feet', 'year_built', 'tax_amount']\n",
    "    - replace unscaled columns with scaled columns\n",
    "    - return train validate test ready for modeling\n",
    "    \"\"\" \n",
    "    \n",
    "    # set columns to scale\n",
    "    cols = ['bedrooms', 'bathrooms', 'square_feet', 'year_built', 'tax_amount']\n",
    "    \n",
    "    # make and fit minmax scaler\n",
    "    scaler = sklearn.preprocessing.MinMaxScaler()\n",
    "    scaler.fit(train[cols])\n",
    "    \n",
    "    # initialize scaled dataframes of continuous variables\n",
    "    X_train_scaled = pd.DataFrame(columns=cols)\n",
    "    X_validate_scaled = pd.DataFrame(columns=cols)\n",
    "    X_test_scaled = pd.DataFrame(columns=cols)\n",
    "\n",
    "    # transform the columns we want to scale and put into a temporary dataframe\n",
    "    X_train_scaled[cols] = scaler.transform(train[cols]).copy()\n",
    "    X_validate_scaled[cols] = scaler.transform(validate[cols]).copy()\n",
    "    X_test_scaled[cols] = scaler.transform(test[cols]).copy()\n",
    "    \n",
    "    # drop old columns from train/validate/test and add new scaled columns    \n",
    "    train = train.drop(columns=cols)\n",
    "    train = pd.concat([train, X_train_scaled])\n",
    "    \n",
    "    validate = validate.drop(columns=cols)\n",
    "    validate = pd.concat([validate, X_validate_scaled])\n",
    "    \n",
    "    test = test.drop(columns=cols)\n",
    "    test = pd.concat([test, X_test_scaled])\n",
    "    \n",
    "    return train, validate, test"
   ]
  },
  {
   "cell_type": "code",
   "execution_count": null,
   "id": "2f3f1d99",
   "metadata": {},
   "outputs": [],
   "source": [
    "train, validate, test = get_zillow_scaled(train, validate, test)        "
   ]
  },
  {
   "cell_type": "code",
   "execution_count": null,
   "id": "42debd66",
   "metadata": {},
   "outputs": [],
   "source": [
    "# set columns to scale\n",
    "cols = ['bedrooms', 'bathrooms', 'square_feet', 'year_built', 'tax_amount']"
   ]
  },
  {
   "cell_type": "code",
   "execution_count": null,
   "id": "61c5de9b",
   "metadata": {},
   "outputs": [],
   "source": [
    "# make and fit minmax scaler\n",
    "scaler = sklearn.preprocessing.MinMaxScaler()\n",
    "scaler.fit(train[cols])"
   ]
  },
  {
   "cell_type": "code",
   "execution_count": null,
   "id": "dfdfc2c0",
   "metadata": {},
   "outputs": [],
   "source": [
    "# initialize scaled dataframes of continuous variables\n",
    "X_train_scaled = pd.DataFrame(columns=cols)\n",
    "X_validate_scaled = pd.DataFrame(columns=cols)\n",
    "X_test_scaled = pd.DataFrame(columns=cols)"
   ]
  },
  {
   "cell_type": "code",
   "execution_count": null,
   "id": "76fc8cd3",
   "metadata": {},
   "outputs": [],
   "source": [
    "# transform the columns we want to scale and put into a temporary dataframe\n",
    "X_train_scaled[cols] = scaler.transform(train[cols]).copy()\n"
   ]
  },
  {
   "cell_type": "code",
   "execution_count": null,
   "id": "a094f541",
   "metadata": {},
   "outputs": [],
   "source": [
    "X_train_scaled.head()"
   ]
  },
  {
   "cell_type": "code",
   "execution_count": null,
   "id": "db6a269f",
   "metadata": {},
   "outputs": [],
   "source": [
    "\n",
    "\n",
    "\n",
    "    # transform the columns we want to scale and put into a temporary dataframe\n",
    "    X_train_scaled[cols] = scaler.transform(train[cols]).copy()\n",
    "    X_validate_scaled[cols] = scaler.transform(validate[cols]).copy()\n",
    "    X_test_scaled[cols] = scaler.transform(test[cols]).copy()\n",
    "    \n",
    "    # drop old columns from train/validate/test and add new scaled columns    \n",
    "    train = train.drop(columns=cols)\n",
    "    train = pd.concat([train, X_train_scaled])\n",
    "    \n",
    "    validate = validate.drop(columns=cols)\n",
    "    validate = pd.concat([validate, X_validate_scaled])\n",
    "    \n",
    "    test = test.drop(columns=cols)\n",
    "    test = pd.concat([test, X_test_scaled])"
   ]
  }
 ],
 "metadata": {
  "kernelspec": {
   "display_name": "Python 3 (ipykernel)",
   "language": "python",
   "name": "python3"
  },
  "language_info": {
   "codemirror_mode": {
    "name": "ipython",
    "version": 3
   },
   "file_extension": ".py",
   "mimetype": "text/x-python",
   "name": "python",
   "nbconvert_exporter": "python",
   "pygments_lexer": "ipython3",
   "version": "3.9.13"
  }
 },
 "nbformat": 4,
 "nbformat_minor": 5
}
