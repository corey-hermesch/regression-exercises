{
 "cells": [
  {
   "cell_type": "code",
   "execution_count": 1,
   "id": "254d8f48",
   "metadata": {},
   "outputs": [],
   "source": [
    "import numpy as np\n",
    "import pandas as pd\n",
    "\n",
    "import matplotlib.pyplot as plt\n",
    "import seaborn as sns\n",
    "\n",
    "from sklearn.metrics import mean_squared_error, r2_score, explained_variance_score\n",
    "from sklearn.linear_model import LinearRegression\n",
    "from sklearn.feature_selection import f_regression\n",
    "\n",
    "import wrangle as w\n",
    "import evaluate as ev\n",
    "\n",
    "import warnings\n",
    "warnings.filterwarnings('ignore')"
   ]
  },
  {
   "cell_type": "markdown",
   "id": "ae32eff3",
   "metadata": {},
   "source": [
    "# Exercises\n",
    "## 1. Load your zillow dataset"
   ]
  },
  {
   "cell_type": "code",
   "execution_count": 2,
   "id": "271215bf",
   "metadata": {},
   "outputs": [
    {
     "name": "stdout",
     "output_type": "stream",
     "text": [
      "csv file found and read\n"
     ]
    }
   ],
   "source": [
    "df = w.wrangle_zillow()"
   ]
  },
  {
   "cell_type": "code",
   "execution_count": 3,
   "id": "2995b8b9",
   "metadata": {},
   "outputs": [
    {
     "name": "stdout",
     "output_type": "stream",
     "text": [
      "Prepared df: (2033172, 9)\n",
      "\n",
      "Train: (1219902, 9)\n",
      "Validate: (406635, 9)\n",
      "Test: (406635, 9)\n"
     ]
    },
    {
     "data": {
      "text/html": [
       "<div>\n",
       "<style scoped>\n",
       "    .dataframe tbody tr th:only-of-type {\n",
       "        vertical-align: middle;\n",
       "    }\n",
       "\n",
       "    .dataframe tbody tr th {\n",
       "        vertical-align: top;\n",
       "    }\n",
       "\n",
       "    .dataframe thead th {\n",
       "        text-align: right;\n",
       "    }\n",
       "</style>\n",
       "<table border=\"1\" class=\"dataframe\">\n",
       "  <thead>\n",
       "    <tr style=\"text-align: right;\">\n",
       "      <th></th>\n",
       "      <th>bedrooms</th>\n",
       "      <th>bathrooms</th>\n",
       "      <th>square_feet</th>\n",
       "      <th>year_built</th>\n",
       "      <th>tax_amount</th>\n",
       "      <th>county</th>\n",
       "      <th>tax_value</th>\n",
       "      <th>county_Orange</th>\n",
       "      <th>county_Ventura</th>\n",
       "    </tr>\n",
       "  </thead>\n",
       "  <tbody>\n",
       "    <tr>\n",
       "      <th>789918</th>\n",
       "      <td>2</td>\n",
       "      <td>1.0</td>\n",
       "      <td>777</td>\n",
       "      <td>1946</td>\n",
       "      <td>4230</td>\n",
       "      <td>LA</td>\n",
       "      <td>350556</td>\n",
       "      <td>0</td>\n",
       "      <td>0</td>\n",
       "    </tr>\n",
       "    <tr>\n",
       "      <th>1696225</th>\n",
       "      <td>2</td>\n",
       "      <td>1.0</td>\n",
       "      <td>1014</td>\n",
       "      <td>1938</td>\n",
       "      <td>2567</td>\n",
       "      <td>LA</td>\n",
       "      <td>192599</td>\n",
       "      <td>0</td>\n",
       "      <td>0</td>\n",
       "    </tr>\n",
       "    <tr>\n",
       "      <th>1720742</th>\n",
       "      <td>3</td>\n",
       "      <td>2.0</td>\n",
       "      <td>1762</td>\n",
       "      <td>1958</td>\n",
       "      <td>5566</td>\n",
       "      <td>Orange</td>\n",
       "      <td>480000</td>\n",
       "      <td>1</td>\n",
       "      <td>0</td>\n",
       "    </tr>\n",
       "    <tr>\n",
       "      <th>962447</th>\n",
       "      <td>1</td>\n",
       "      <td>1.0</td>\n",
       "      <td>616</td>\n",
       "      <td>1952</td>\n",
       "      <td>1694</td>\n",
       "      <td>LA</td>\n",
       "      <td>131512</td>\n",
       "      <td>0</td>\n",
       "      <td>0</td>\n",
       "    </tr>\n",
       "    <tr>\n",
       "      <th>324076</th>\n",
       "      <td>3</td>\n",
       "      <td>2.0</td>\n",
       "      <td>1495</td>\n",
       "      <td>1954</td>\n",
       "      <td>1064</td>\n",
       "      <td>LA</td>\n",
       "      <td>84031</td>\n",
       "      <td>0</td>\n",
       "      <td>0</td>\n",
       "    </tr>\n",
       "  </tbody>\n",
       "</table>\n",
       "</div>"
      ],
      "text/plain": [
       "         bedrooms  bathrooms  square_feet  year_built  tax_amount  county  \\\n",
       "789918          2        1.0          777        1946        4230      LA   \n",
       "1696225         2        1.0         1014        1938        2567      LA   \n",
       "1720742         3        2.0         1762        1958        5566  Orange   \n",
       "962447          1        1.0          616        1952        1694      LA   \n",
       "324076          3        2.0         1495        1954        1064      LA   \n",
       "\n",
       "         tax_value  county_Orange  county_Ventura  \n",
       "789918      350556              0               0  \n",
       "1696225     192599              0               0  \n",
       "1720742     480000              1               0  \n",
       "962447      131512              0               0  \n",
       "324076       84031              0               0  "
      ]
     },
     "execution_count": 3,
     "metadata": {},
     "output_type": "execute_result"
    }
   ],
   "source": [
    "train, validate, test = w.split_function(df)\n",
    "train.head()"
   ]
  },
  {
   "cell_type": "code",
   "execution_count": 4,
   "id": "a11287f8",
   "metadata": {},
   "outputs": [],
   "source": [
    "to_scale = ['bedrooms', 'bathrooms', 'square_feet', 'year_built', 'tax_amount']"
   ]
  },
  {
   "cell_type": "code",
   "execution_count": 5,
   "id": "3d4021ee",
   "metadata": {},
   "outputs": [
    {
     "data": {
      "text/html": [
       "<div>\n",
       "<style scoped>\n",
       "    .dataframe tbody tr th:only-of-type {\n",
       "        vertical-align: middle;\n",
       "    }\n",
       "\n",
       "    .dataframe tbody tr th {\n",
       "        vertical-align: top;\n",
       "    }\n",
       "\n",
       "    .dataframe thead th {\n",
       "        text-align: right;\n",
       "    }\n",
       "</style>\n",
       "<table border=\"1\" class=\"dataframe\">\n",
       "  <thead>\n",
       "    <tr style=\"text-align: right;\">\n",
       "      <th></th>\n",
       "      <th>bedrooms</th>\n",
       "      <th>bathrooms</th>\n",
       "      <th>square_feet</th>\n",
       "      <th>year_built</th>\n",
       "      <th>tax_amount</th>\n",
       "      <th>county</th>\n",
       "      <th>tax_value</th>\n",
       "      <th>county_Orange</th>\n",
       "      <th>county_Ventura</th>\n",
       "    </tr>\n",
       "  </thead>\n",
       "  <tbody>\n",
       "    <tr>\n",
       "      <th>789918</th>\n",
       "      <td>0.1250</td>\n",
       "      <td>0.05</td>\n",
       "      <td>0.032041</td>\n",
       "      <td>0.674419</td>\n",
       "      <td>0.042016</td>\n",
       "      <td>LA</td>\n",
       "      <td>350556</td>\n",
       "      <td>0</td>\n",
       "      <td>0</td>\n",
       "    </tr>\n",
       "    <tr>\n",
       "      <th>1696225</th>\n",
       "      <td>0.1250</td>\n",
       "      <td>0.05</td>\n",
       "      <td>0.041827</td>\n",
       "      <td>0.637209</td>\n",
       "      <td>0.025447</td>\n",
       "      <td>LA</td>\n",
       "      <td>192599</td>\n",
       "      <td>0</td>\n",
       "      <td>0</td>\n",
       "    </tr>\n",
       "    <tr>\n",
       "      <th>1720742</th>\n",
       "      <td>0.1875</td>\n",
       "      <td>0.10</td>\n",
       "      <td>0.072712</td>\n",
       "      <td>0.730233</td>\n",
       "      <td>0.055328</td>\n",
       "      <td>Orange</td>\n",
       "      <td>480000</td>\n",
       "      <td>1</td>\n",
       "      <td>0</td>\n",
       "    </tr>\n",
       "    <tr>\n",
       "      <th>962447</th>\n",
       "      <td>0.0625</td>\n",
       "      <td>0.05</td>\n",
       "      <td>0.025393</td>\n",
       "      <td>0.702326</td>\n",
       "      <td>0.016749</td>\n",
       "      <td>LA</td>\n",
       "      <td>131512</td>\n",
       "      <td>0</td>\n",
       "      <td>0</td>\n",
       "    </tr>\n",
       "    <tr>\n",
       "      <th>324076</th>\n",
       "      <td>0.1875</td>\n",
       "      <td>0.10</td>\n",
       "      <td>0.061687</td>\n",
       "      <td>0.711628</td>\n",
       "      <td>0.010472</td>\n",
       "      <td>LA</td>\n",
       "      <td>84031</td>\n",
       "      <td>0</td>\n",
       "      <td>0</td>\n",
       "    </tr>\n",
       "  </tbody>\n",
       "</table>\n",
       "</div>"
      ],
      "text/plain": [
       "         bedrooms  bathrooms  square_feet  year_built  tax_amount  county  \\\n",
       "789918     0.1250       0.05     0.032041    0.674419    0.042016      LA   \n",
       "1696225    0.1250       0.05     0.041827    0.637209    0.025447      LA   \n",
       "1720742    0.1875       0.10     0.072712    0.730233    0.055328  Orange   \n",
       "962447     0.0625       0.05     0.025393    0.702326    0.016749      LA   \n",
       "324076     0.1875       0.10     0.061687    0.711628    0.010472      LA   \n",
       "\n",
       "         tax_value  county_Orange  county_Ventura  \n",
       "789918      350556              0               0  \n",
       "1696225     192599              0               0  \n",
       "1720742     480000              1               0  \n",
       "962447      131512              0               0  \n",
       "324076       84031              0               0  "
      ]
     },
     "execution_count": 5,
     "metadata": {},
     "output_type": "execute_result"
    }
   ],
   "source": [
    "train_scaled, validate_scaled, test_scaled = w.get_minmax_scaled(train, validate, test, to_scale)\n",
    "train_scaled.head()"
   ]
  },
  {
   "cell_type": "markdown",
   "id": "904e7bb5",
   "metadata": {},
   "source": [
    "## 2. Fit a linear regression model (ordinary least squares) and compute yhat, predictions of tax_value using only square_feet. "
   ]
  },
  {
   "cell_type": "code",
   "execution_count": 6,
   "id": "fd859f83",
   "metadata": {},
   "outputs": [
    {
     "data": {
      "text/html": [
       "<style>#sk-container-id-1 {color: black;background-color: white;}#sk-container-id-1 pre{padding: 0;}#sk-container-id-1 div.sk-toggleable {background-color: white;}#sk-container-id-1 label.sk-toggleable__label {cursor: pointer;display: block;width: 100%;margin-bottom: 0;padding: 0.3em;box-sizing: border-box;text-align: center;}#sk-container-id-1 label.sk-toggleable__label-arrow:before {content: \"▸\";float: left;margin-right: 0.25em;color: #696969;}#sk-container-id-1 label.sk-toggleable__label-arrow:hover:before {color: black;}#sk-container-id-1 div.sk-estimator:hover label.sk-toggleable__label-arrow:before {color: black;}#sk-container-id-1 div.sk-toggleable__content {max-height: 0;max-width: 0;overflow: hidden;text-align: left;background-color: #f0f8ff;}#sk-container-id-1 div.sk-toggleable__content pre {margin: 0.2em;color: black;border-radius: 0.25em;background-color: #f0f8ff;}#sk-container-id-1 input.sk-toggleable__control:checked~div.sk-toggleable__content {max-height: 200px;max-width: 100%;overflow: auto;}#sk-container-id-1 input.sk-toggleable__control:checked~label.sk-toggleable__label-arrow:before {content: \"▾\";}#sk-container-id-1 div.sk-estimator input.sk-toggleable__control:checked~label.sk-toggleable__label {background-color: #d4ebff;}#sk-container-id-1 div.sk-label input.sk-toggleable__control:checked~label.sk-toggleable__label {background-color: #d4ebff;}#sk-container-id-1 input.sk-hidden--visually {border: 0;clip: rect(1px 1px 1px 1px);clip: rect(1px, 1px, 1px, 1px);height: 1px;margin: -1px;overflow: hidden;padding: 0;position: absolute;width: 1px;}#sk-container-id-1 div.sk-estimator {font-family: monospace;background-color: #f0f8ff;border: 1px dotted black;border-radius: 0.25em;box-sizing: border-box;margin-bottom: 0.5em;}#sk-container-id-1 div.sk-estimator:hover {background-color: #d4ebff;}#sk-container-id-1 div.sk-parallel-item::after {content: \"\";width: 100%;border-bottom: 1px solid gray;flex-grow: 1;}#sk-container-id-1 div.sk-label:hover label.sk-toggleable__label {background-color: #d4ebff;}#sk-container-id-1 div.sk-serial::before {content: \"\";position: absolute;border-left: 1px solid gray;box-sizing: border-box;top: 0;bottom: 0;left: 50%;z-index: 0;}#sk-container-id-1 div.sk-serial {display: flex;flex-direction: column;align-items: center;background-color: white;padding-right: 0.2em;padding-left: 0.2em;position: relative;}#sk-container-id-1 div.sk-item {position: relative;z-index: 1;}#sk-container-id-1 div.sk-parallel {display: flex;align-items: stretch;justify-content: center;background-color: white;position: relative;}#sk-container-id-1 div.sk-item::before, #sk-container-id-1 div.sk-parallel-item::before {content: \"\";position: absolute;border-left: 1px solid gray;box-sizing: border-box;top: 0;bottom: 0;left: 50%;z-index: -1;}#sk-container-id-1 div.sk-parallel-item {display: flex;flex-direction: column;z-index: 1;position: relative;background-color: white;}#sk-container-id-1 div.sk-parallel-item:first-child::after {align-self: flex-end;width: 50%;}#sk-container-id-1 div.sk-parallel-item:last-child::after {align-self: flex-start;width: 50%;}#sk-container-id-1 div.sk-parallel-item:only-child::after {width: 0;}#sk-container-id-1 div.sk-dashed-wrapped {border: 1px dashed gray;margin: 0 0.4em 0.5em 0.4em;box-sizing: border-box;padding-bottom: 0.4em;background-color: white;}#sk-container-id-1 div.sk-label label {font-family: monospace;font-weight: bold;display: inline-block;line-height: 1.2em;}#sk-container-id-1 div.sk-label-container {text-align: center;}#sk-container-id-1 div.sk-container {/* jupyter's `normalize.less` sets `[hidden] { display: none; }` but bootstrap.min.css set `[hidden] { display: none !important; }` so we also need the `!important` here to be able to override the default hidden behavior on the sphinx rendered scikit-learn.org. See: https://github.com/scikit-learn/scikit-learn/issues/21755 */display: inline-block !important;position: relative;}#sk-container-id-1 div.sk-text-repr-fallback {display: none;}</style><div id=\"sk-container-id-1\" class=\"sk-top-container\"><div class=\"sk-text-repr-fallback\"><pre>LinearRegression()</pre><b>In a Jupyter environment, please rerun this cell to show the HTML representation or trust the notebook. <br />On GitHub, the HTML representation is unable to render, please try loading this page with nbviewer.org.</b></div><div class=\"sk-container\" hidden><div class=\"sk-item\"><div class=\"sk-estimator sk-toggleable\"><input class=\"sk-toggleable__control sk-hidden--visually\" id=\"sk-estimator-id-1\" type=\"checkbox\" checked><label for=\"sk-estimator-id-1\" class=\"sk-toggleable__label sk-toggleable__label-arrow\">LinearRegression</label><div class=\"sk-toggleable__content\"><pre>LinearRegression()</pre></div></div></div></div></div>"
      ],
      "text/plain": [
       "LinearRegression()"
      ]
     },
     "execution_count": 6,
     "metadata": {},
     "output_type": "execute_result"
    }
   ],
   "source": [
    "# first time, I will use the non-scaled train, just to see. then later use the scaled\n",
    "\n",
    "# make the thing\n",
    "lr = LinearRegression()\n",
    "\n",
    "# fit the thing\n",
    "lr.fit(train[['square_feet']], train.tax_value)"
   ]
  },
  {
   "cell_type": "code",
   "execution_count": 7,
   "id": "80ed4994",
   "metadata": {},
   "outputs": [],
   "source": [
    "yhat = lr.predict(train[['square_feet']])"
   ]
  },
  {
   "cell_type": "markdown",
   "id": "64533908",
   "metadata": {},
   "source": [
    "## 3. Plot the residuals for the linear regression model that you made."
   ]
  },
  {
   "cell_type": "code",
   "execution_count": 8,
   "id": "8b2b878c",
   "metadata": {},
   "outputs": [
    {
     "data": {
      "text/html": [
       "<div>\n",
       "<style scoped>\n",
       "    .dataframe tbody tr th:only-of-type {\n",
       "        vertical-align: middle;\n",
       "    }\n",
       "\n",
       "    .dataframe tbody tr th {\n",
       "        vertical-align: top;\n",
       "    }\n",
       "\n",
       "    .dataframe thead th {\n",
       "        text-align: right;\n",
       "    }\n",
       "</style>\n",
       "<table border=\"1\" class=\"dataframe\">\n",
       "  <thead>\n",
       "    <tr style=\"text-align: right;\">\n",
       "      <th></th>\n",
       "      <th>square_feet</th>\n",
       "      <th>tax_value</th>\n",
       "    </tr>\n",
       "  </thead>\n",
       "  <tbody>\n",
       "    <tr>\n",
       "      <th>789918</th>\n",
       "      <td>777</td>\n",
       "      <td>350556</td>\n",
       "    </tr>\n",
       "    <tr>\n",
       "      <th>1696225</th>\n",
       "      <td>1014</td>\n",
       "      <td>192599</td>\n",
       "    </tr>\n",
       "    <tr>\n",
       "      <th>1720742</th>\n",
       "      <td>1762</td>\n",
       "      <td>480000</td>\n",
       "    </tr>\n",
       "    <tr>\n",
       "      <th>962447</th>\n",
       "      <td>616</td>\n",
       "      <td>131512</td>\n",
       "    </tr>\n",
       "    <tr>\n",
       "      <th>324076</th>\n",
       "      <td>1495</td>\n",
       "      <td>84031</td>\n",
       "    </tr>\n",
       "  </tbody>\n",
       "</table>\n",
       "</div>"
      ],
      "text/plain": [
       "         square_feet  tax_value\n",
       "789918           777     350556\n",
       "1696225         1014     192599\n",
       "1720742         1762     480000\n",
       "962447           616     131512\n",
       "324076          1495      84031"
      ]
     },
     "execution_count": 8,
     "metadata": {},
     "output_type": "execute_result"
    }
   ],
   "source": [
    "# I'm going to make a new dataframe for this portion with only one independent variable and the target\n",
    "eval_df = train[['square_feet', 'tax_value']]\n",
    "eval_df.head()"
   ]
  },
  {
   "cell_type": "code",
   "execution_count": 9,
   "id": "f5b8e911",
   "metadata": {},
   "outputs": [
    {
     "data": {
      "text/plain": [
       "363190.42289626546"
      ]
     },
     "execution_count": 9,
     "metadata": {},
     "output_type": "execute_result"
    }
   ],
   "source": [
    "baseline = eval_df.tax_value.mean()\n",
    "baseline"
   ]
  },
  {
   "cell_type": "code",
   "execution_count": 10,
   "id": "df9fafa7",
   "metadata": {},
   "outputs": [
    {
     "data": {
      "text/html": [
       "<div>\n",
       "<style scoped>\n",
       "    .dataframe tbody tr th:only-of-type {\n",
       "        vertical-align: middle;\n",
       "    }\n",
       "\n",
       "    .dataframe tbody tr th {\n",
       "        vertical-align: top;\n",
       "    }\n",
       "\n",
       "    .dataframe thead th {\n",
       "        text-align: right;\n",
       "    }\n",
       "</style>\n",
       "<table border=\"1\" class=\"dataframe\">\n",
       "  <thead>\n",
       "    <tr style=\"text-align: right;\">\n",
       "      <th></th>\n",
       "      <th>square_feet</th>\n",
       "      <th>tax_value</th>\n",
       "      <th>yhat_baseline</th>\n",
       "      <th>yhat</th>\n",
       "      <th>residual</th>\n",
       "      <th>residual_baseline</th>\n",
       "    </tr>\n",
       "  </thead>\n",
       "  <tbody>\n",
       "    <tr>\n",
       "      <th>789918</th>\n",
       "      <td>777</td>\n",
       "      <td>350556</td>\n",
       "      <td>363190.422896</td>\n",
       "      <td>192221.707839</td>\n",
       "      <td>-158334.292161</td>\n",
       "      <td>12634.422896</td>\n",
       "    </tr>\n",
       "    <tr>\n",
       "      <th>1696225</th>\n",
       "      <td>1014</td>\n",
       "      <td>192599</td>\n",
       "      <td>363190.422896</td>\n",
       "      <td>233804.058737</td>\n",
       "      <td>41205.058737</td>\n",
       "      <td>170591.422896</td>\n",
       "    </tr>\n",
       "    <tr>\n",
       "      <th>1720742</th>\n",
       "      <td>1762</td>\n",
       "      <td>480000</td>\n",
       "      <td>363190.422896</td>\n",
       "      <td>365042.870852</td>\n",
       "      <td>-114957.129148</td>\n",
       "      <td>-116809.577104</td>\n",
       "    </tr>\n",
       "    <tr>\n",
       "      <th>962447</th>\n",
       "      <td>616</td>\n",
       "      <td>131512</td>\n",
       "      <td>363190.422896</td>\n",
       "      <td>163973.781702</td>\n",
       "      <td>32461.781702</td>\n",
       "      <td>231678.422896</td>\n",
       "    </tr>\n",
       "    <tr>\n",
       "      <th>324076</th>\n",
       "      <td>1495</td>\n",
       "      <td>84031</td>\n",
       "      <td>363190.422896</td>\n",
       "      <td>318196.931233</td>\n",
       "      <td>234165.931233</td>\n",
       "      <td>279159.422896</td>\n",
       "    </tr>\n",
       "  </tbody>\n",
       "</table>\n",
       "</div>"
      ],
      "text/plain": [
       "         square_feet  tax_value  yhat_baseline           yhat       residual  \\\n",
       "789918           777     350556  363190.422896  192221.707839 -158334.292161   \n",
       "1696225         1014     192599  363190.422896  233804.058737   41205.058737   \n",
       "1720742         1762     480000  363190.422896  365042.870852 -114957.129148   \n",
       "962447           616     131512  363190.422896  163973.781702   32461.781702   \n",
       "324076          1495      84031  363190.422896  318196.931233  234165.931233   \n",
       "\n",
       "         residual_baseline  \n",
       "789918        12634.422896  \n",
       "1696225      170591.422896  \n",
       "1720742     -116809.577104  \n",
       "962447       231678.422896  \n",
       "324076       279159.422896  "
      ]
     },
     "execution_count": 10,
     "metadata": {},
     "output_type": "execute_result"
    }
   ],
   "source": [
    "# make some columns for metrics calculations/plotting\n",
    "eval_df['yhat_baseline'] = eval_df['tax_value'].mean()\n",
    "eval_df['yhat'] = yhat\n",
    "eval_df['residual'] = eval_df['yhat'] - eval_df['tax_value']\n",
    "eval_df['residual_baseline'] = eval_df['yhat_baseline'] - eval_df['tax_value']\n",
    "eval_df.head()"
   ]
  },
  {
   "cell_type": "code",
   "execution_count": 11,
   "id": "df746a03",
   "metadata": {},
   "outputs": [
    {
     "data": {
      "image/png": "[encoded data removed]",
      "text/plain": [
       "<Figure size 640x480 with 1 Axes>"
      ]
     },
     "metadata": {},
     "output_type": "display_data"
    }
   ],
   "source": [
    "# plotting feature vs target, plus the baseline, plus the predicted line for non-scaled data\n",
    "\n",
    "plt.scatter(eval_df.square_feet, eval_df.tax_value)\n",
    "plt.axhline(baseline, ls=':')\n",
    "plt.plot(eval_df.square_feet, eval_df.yhat)\n",
    "\n",
    "plt.title('OLS linear model')\n",
    "plt.xlabel('square feet')\n",
    "plt.ylabel('tax value')\n",
    "plt.show()"
   ]
  },
  {
   "cell_type": "markdown",
   "id": "7f7a1799",
   "metadata": {},
   "source": [
    "## Looks like this model might be more accurate if square_feet is < 10000.\n",
    "\n",
    "## Now, I will do all of this for the scaled dataset"
   ]
  },
  {
   "cell_type": "code",
   "execution_count": null,
   "id": "8c1694ab",
   "metadata": {},
   "outputs": [],
   "source": [
    "# make a function to plot x, y, target mean, yhat\n",
    "def get_feature_target_plot(df):\n",
    "    \"\"\"\n",
    "    This function will\n",
    "    - accept a dataframe with columns x, y, yhat (should be all continuous variables)\n",
    "        - x = independent variable\n",
    "        - y = target variable\n",
    "        - yhat = predicted y value from some model\n",
    "    - plots data (scatterplot), baseline (mean of target), and predicted line (yhat)\n",
    "    \"\"\"\n",
    "    cols = df.columns\n",
    "    \n",
    "    new_df = df.copy()\n",
    "    new_df.columns=['x','y','yhat']\n",
    "\n",
    "    baseline = new_df.y.mean()\n",
    "    \n",
    "    plt.scatter(new_df.x, new_df.y)\n",
    "    plt.axhline(baseline, ls=':')\n",
    "    plt.plot(new_df.x, new_df.yhat)\n",
    "\n",
    "    plt.title('OLS linear model')\n",
    "    plt.xlabel(cols[0])\n",
    "    plt.ylabel(cols[1])\n",
    "    plt.show()"
   ]
  },
  {
   "cell_type": "code",
   "execution_count": 12,
   "id": "03321cd1",
   "metadata": {},
   "outputs": [],
   "source": [
    "eval_scaled_df = train_scaled[['square_feet', 'tax_value']]"
   ]
  },
  {
   "cell_type": "code",
   "execution_count": 13,
   "id": "5c25cc81",
   "metadata": {},
   "outputs": [
    {
     "data": {
      "text/html": [
       "<style>#sk-container-id-2 {color: black;background-color: white;}#sk-container-id-2 pre{padding: 0;}#sk-container-id-2 div.sk-toggleable {background-color: white;}#sk-container-id-2 label.sk-toggleable__label {cursor: pointer;display: block;width: 100%;margin-bottom: 0;padding: 0.3em;box-sizing: border-box;text-align: center;}#sk-container-id-2 label.sk-toggleable__label-arrow:before {content: \"▸\";float: left;margin-right: 0.25em;color: #696969;}#sk-container-id-2 label.sk-toggleable__label-arrow:hover:before {color: black;}#sk-container-id-2 div.sk-estimator:hover label.sk-toggleable__label-arrow:before {color: black;}#sk-container-id-2 div.sk-toggleable__content {max-height: 0;max-width: 0;overflow: hidden;text-align: left;background-color: #f0f8ff;}#sk-container-id-2 div.sk-toggleable__content pre {margin: 0.2em;color: black;border-radius: 0.25em;background-color: #f0f8ff;}#sk-container-id-2 input.sk-toggleable__control:checked~div.sk-toggleable__content {max-height: 200px;max-width: 100%;overflow: auto;}#sk-container-id-2 input.sk-toggleable__control:checked~label.sk-toggleable__label-arrow:before {content: \"▾\";}#sk-container-id-2 div.sk-estimator input.sk-toggleable__control:checked~label.sk-toggleable__label {background-color: #d4ebff;}#sk-container-id-2 div.sk-label input.sk-toggleable__control:checked~label.sk-toggleable__label {background-color: #d4ebff;}#sk-container-id-2 input.sk-hidden--visually {border: 0;clip: rect(1px 1px 1px 1px);clip: rect(1px, 1px, 1px, 1px);height: 1px;margin: -1px;overflow: hidden;padding: 0;position: absolute;width: 1px;}#sk-container-id-2 div.sk-estimator {font-family: monospace;background-color: #f0f8ff;border: 1px dotted black;border-radius: 0.25em;box-sizing: border-box;margin-bottom: 0.5em;}#sk-container-id-2 div.sk-estimator:hover {background-color: #d4ebff;}#sk-container-id-2 div.sk-parallel-item::after {content: \"\";width: 100%;border-bottom: 1px solid gray;flex-grow: 1;}#sk-container-id-2 div.sk-label:hover label.sk-toggleable__label {background-color: #d4ebff;}#sk-container-id-2 div.sk-serial::before {content: \"\";position: absolute;border-left: 1px solid gray;box-sizing: border-box;top: 0;bottom: 0;left: 50%;z-index: 0;}#sk-container-id-2 div.sk-serial {display: flex;flex-direction: column;align-items: center;background-color: white;padding-right: 0.2em;padding-left: 0.2em;position: relative;}#sk-container-id-2 div.sk-item {position: relative;z-index: 1;}#sk-container-id-2 div.sk-parallel {display: flex;align-items: stretch;justify-content: center;background-color: white;position: relative;}#sk-container-id-2 div.sk-item::before, #sk-container-id-2 div.sk-parallel-item::before {content: \"\";position: absolute;border-left: 1px solid gray;box-sizing: border-box;top: 0;bottom: 0;left: 50%;z-index: -1;}#sk-container-id-2 div.sk-parallel-item {display: flex;flex-direction: column;z-index: 1;position: relative;background-color: white;}#sk-container-id-2 div.sk-parallel-item:first-child::after {align-self: flex-end;width: 50%;}#sk-container-id-2 div.sk-parallel-item:last-child::after {align-self: flex-start;width: 50%;}#sk-container-id-2 div.sk-parallel-item:only-child::after {width: 0;}#sk-container-id-2 div.sk-dashed-wrapped {border: 1px dashed gray;margin: 0 0.4em 0.5em 0.4em;box-sizing: border-box;padding-bottom: 0.4em;background-color: white;}#sk-container-id-2 div.sk-label label {font-family: monospace;font-weight: bold;display: inline-block;line-height: 1.2em;}#sk-container-id-2 div.sk-label-container {text-align: center;}#sk-container-id-2 div.sk-container {/* jupyter's `normalize.less` sets `[hidden] { display: none; }` but bootstrap.min.css set `[hidden] { display: none !important; }` so we also need the `!important` here to be able to override the default hidden behavior on the sphinx rendered scikit-learn.org. See: https://github.com/scikit-learn/scikit-learn/issues/21755 */display: inline-block !important;position: relative;}#sk-container-id-2 div.sk-text-repr-fallback {display: none;}</style><div id=\"sk-container-id-2\" class=\"sk-top-container\"><div class=\"sk-text-repr-fallback\"><pre>LinearRegression()</pre><b>In a Jupyter environment, please rerun this cell to show the HTML representation or trust the notebook. <br />On GitHub, the HTML representation is unable to render, please try loading this page with nbviewer.org.</b></div><div class=\"sk-container\" hidden><div class=\"sk-item\"><div class=\"sk-estimator sk-toggleable\"><input class=\"sk-toggleable__control sk-hidden--visually\" id=\"sk-estimator-id-2\" type=\"checkbox\" checked><label for=\"sk-estimator-id-2\" class=\"sk-toggleable__label sk-toggleable__label-arrow\">LinearRegression</label><div class=\"sk-toggleable__content\"><pre>LinearRegression()</pre></div></div></div></div></div>"
      ],
      "text/plain": [
       "LinearRegression()"
      ]
     },
     "execution_count": 13,
     "metadata": {},
     "output_type": "execute_result"
    }
   ],
   "source": [
    "# make and fit new model\n",
    "lr_scaled = LinearRegression()\n",
    "lr_scaled.fit(eval_scaled_df[['square_feet']], eval_scaled_df.tax_value)"
   ]
  },
  {
   "cell_type": "code",
   "execution_count": 14,
   "id": "1d263fde",
   "metadata": {},
   "outputs": [
    {
     "data": {
      "text/html": [
       "<div>\n",
       "<style scoped>\n",
       "    .dataframe tbody tr th:only-of-type {\n",
       "        vertical-align: middle;\n",
       "    }\n",
       "\n",
       "    .dataframe tbody tr th {\n",
       "        vertical-align: top;\n",
       "    }\n",
       "\n",
       "    .dataframe thead th {\n",
       "        text-align: right;\n",
       "    }\n",
       "</style>\n",
       "<table border=\"1\" class=\"dataframe\">\n",
       "  <thead>\n",
       "    <tr style=\"text-align: right;\">\n",
       "      <th></th>\n",
       "      <th>square_feet</th>\n",
       "      <th>tax_value</th>\n",
       "      <th>yhat</th>\n",
       "    </tr>\n",
       "  </thead>\n",
       "  <tbody>\n",
       "    <tr>\n",
       "      <th>789918</th>\n",
       "      <td>0.032041</td>\n",
       "      <td>350556</td>\n",
       "      <td>192221.707839</td>\n",
       "    </tr>\n",
       "    <tr>\n",
       "      <th>1696225</th>\n",
       "      <td>0.041827</td>\n",
       "      <td>192599</td>\n",
       "      <td>233804.058737</td>\n",
       "    </tr>\n",
       "    <tr>\n",
       "      <th>1720742</th>\n",
       "      <td>0.072712</td>\n",
       "      <td>480000</td>\n",
       "      <td>365042.870852</td>\n",
       "    </tr>\n",
       "    <tr>\n",
       "      <th>962447</th>\n",
       "      <td>0.025393</td>\n",
       "      <td>131512</td>\n",
       "      <td>163973.781702</td>\n",
       "    </tr>\n",
       "    <tr>\n",
       "      <th>324076</th>\n",
       "      <td>0.061687</td>\n",
       "      <td>84031</td>\n",
       "      <td>318196.931233</td>\n",
       "    </tr>\n",
       "  </tbody>\n",
       "</table>\n",
       "</div>"
      ],
      "text/plain": [
       "         square_feet  tax_value           yhat\n",
       "789918      0.032041     350556  192221.707839\n",
       "1696225     0.041827     192599  233804.058737\n",
       "1720742     0.072712     480000  365042.870852\n",
       "962447      0.025393     131512  163973.781702\n",
       "324076      0.061687      84031  318196.931233"
      ]
     },
     "execution_count": 14,
     "metadata": {},
     "output_type": "execute_result"
    }
   ],
   "source": [
    "eval_scaled_df['yhat'] = lr_scaled.predict(eval_scaled_df[['square_feet']])\n",
    "eval_scaled_df.head()"
   ]
  },
  {
   "cell_type": "code",
   "execution_count": 15,
   "id": "7779ffd5",
   "metadata": {},
   "outputs": [
    {
     "data": {
      "image/png": "[encoded data removed]",
      "text/plain": [
       "<Figure size 640x480 with 1 Axes>"
      ]
     },
     "metadata": {},
     "output_type": "display_data"
    }
   ],
   "source": [
    "ev.get_feature_target_plot(eval_scaled_df)"
   ]
  },
  {
   "cell_type": "code",
   "execution_count": 16,
   "id": "cbae625a",
   "metadata": {},
   "outputs": [
    {
     "data": {
      "image/png": "[encoded data removed]",
      "text/plain": [
       "<Figure size 640x480 with 1 Axes>"
      ]
     },
     "metadata": {},
     "output_type": "display_data"
    }
   ],
   "source": [
    "# compare again to non-scaled df\n",
    "eval_df = train[['square_feet', 'tax_value']]\n",
    "lr = LinearRegression()\n",
    "lr.fit(eval_df[['square_feet']], eval_df.tax_value)\n",
    "eval_df['yhat'] = lr.predict(eval_df[['square_feet']])\n",
    "ev.get_feature_target_plot(eval_df)\n",
    "# eval_df.head()"
   ]
  },
  {
   "cell_type": "markdown",
   "id": "a1c762ee",
   "metadata": {},
   "source": [
    "## 3. conclusion: So, bottom line, so far it doesn't appear that scaling helped"
   ]
  },
  {
   "cell_type": "markdown",
   "id": "d7744564",
   "metadata": {},
   "source": [
    "## 4. Calculate the sum of squared errors, explained sum of squares, total sum of squares, mean squared error, and root mean squared error for your model."
   ]
  },
  {
   "cell_type": "code",
   "execution_count": null,
   "id": "dd3c4838",
   "metadata": {},
   "outputs": [],
   "source": [
    "def get_reg_model_metrics(y, yhat):\n",
    "    \"\"\"\n",
    "    This function will\n",
    "    - accept two series y, yhat (target, predicted target values)\n",
    "    - print these values for the model and for the baseline (mean of y)\n",
    "        - MSE: Mean Squared Error\n",
    "        - RMSE: Root Mean Squared Error\n",
    "        - SSE: Sum of Squared Errors\n",
    "    - prints these values for model compared to baseline\n",
    "        - ESS: Explained Sum of Squares\n",
    "        - TSS: Total Sum of Squares\n",
    "        - R2: R-squared; the ratio of the Explained Sum of Squares (ESS) to the Total Sum of Squares (TSS)\n",
    "            - aka the Explained Variance aka the fraction of the variance error explained by model\n",
    "            - an R2 value closer to 1.0 is better; closer to 0.0 is worse\n",
    "        \"\"\"\n",
    "    df = pd.concat([y, yhat], axis=1)\n",
    "    df.columns=['y','yhat']\n",
    "    \n",
    "    df['yhat_baseline'] = df.y.mean()\n",
    "    df['residuals'] = df.yhat - df.y\n",
    "    df['residuals_baseline'] = df.yhat_baseline - df.y\n",
    "    \n",
    "    MSE_model = mean_squared_error(df.y, df.yhat)\n",
    "    RMSE_model = MSE_model ** .5\n",
    "    SSE_model = MSE_model * len(df)\n",
    "    \n",
    "    MSE_baseline = mean_squared_error(df.y, df.yhat_baseline)\n",
    "    RMSE_baseline = MSE_baseline ** .5\n",
    "    SSE_baseline = MSE_baseline * len(df)\n",
    "    \n",
    "    ESS = sum((df.yhat - df.y.mean())**2)\n",
    "    TSS = ESS + SSE_model\n",
    "    R2 = ESS/TSS\n",
    "    \n",
    "    results_df = pd.DataFrame({'metric': ['MSE', 'RMSE', 'SSE'],\n",
    "                               'model_error': [MSE_model, RMSE_model, SSE_model],\n",
    "                               'baseline_error': [MSE_baseline, RMSE_baseline, SSE_baseline]})\n",
    "    display(results_df)\n",
    "    print(f'ESS = {ESS}')\n",
    "    print(f'TSS = {TSS}')\n",
    "    print()\n",
    "    print(f'R^2 (ESS/TSS) = {R2}')"
   ]
  },
  {
   "cell_type": "code",
   "execution_count": 17,
   "id": "5c375bc0",
   "metadata": {},
   "outputs": [
    {
     "data": {
      "text/html": [
       "<div>\n",
       "<style scoped>\n",
       "    .dataframe tbody tr th:only-of-type {\n",
       "        vertical-align: middle;\n",
       "    }\n",
       "\n",
       "    .dataframe tbody tr th {\n",
       "        vertical-align: top;\n",
       "    }\n",
       "\n",
       "    .dataframe thead th {\n",
       "        text-align: right;\n",
       "    }\n",
       "</style>\n",
       "<table border=\"1\" class=\"dataframe\">\n",
       "  <thead>\n",
       "    <tr style=\"text-align: right;\">\n",
       "      <th></th>\n",
       "      <th>metric</th>\n",
       "      <th>model_error</th>\n",
       "      <th>baseline_error</th>\n",
       "    </tr>\n",
       "  </thead>\n",
       "  <tbody>\n",
       "    <tr>\n",
       "      <th>0</th>\n",
       "      <td>MSE</td>\n",
       "      <td>4.295216e+10</td>\n",
       "      <td>5.918398e+10</td>\n",
       "    </tr>\n",
       "    <tr>\n",
       "      <th>1</th>\n",
       "      <td>RMSE</td>\n",
       "      <td>2.072490e+05</td>\n",
       "      <td>2.432776e+05</td>\n",
       "    </tr>\n",
       "    <tr>\n",
       "      <th>2</th>\n",
       "      <td>SSE</td>\n",
       "      <td>5.239743e+16</td>\n",
       "      <td>7.219866e+16</td>\n",
       "    </tr>\n",
       "  </tbody>\n",
       "</table>\n",
       "</div>"
      ],
      "text/plain": [
       "  metric   model_error  baseline_error\n",
       "0    MSE  4.295216e+10    5.918398e+10\n",
       "1   RMSE  2.072490e+05    2.432776e+05\n",
       "2    SSE  5.239743e+16    7.219866e+16"
      ]
     },
     "metadata": {},
     "output_type": "display_data"
    },
    {
     "name": "stdout",
     "output_type": "stream",
     "text": [
      "ESS = 1.9801232802901132e+16\n",
      "TSS = 7.219865829380187e+16\n",
      "\n",
      "R^2 (ESS/TSS) = 0.27426039861188156\n"
     ]
    }
   ],
   "source": [
    "ev.get_reg_model_metrics(eval_df.tax_value, eval_df.yhat)"
   ]
  },
  {
   "cell_type": "code",
   "execution_count": 18,
   "id": "b3b94563",
   "metadata": {},
   "outputs": [
    {
     "data": {
      "text/html": [
       "<div>\n",
       "<style scoped>\n",
       "    .dataframe tbody tr th:only-of-type {\n",
       "        vertical-align: middle;\n",
       "    }\n",
       "\n",
       "    .dataframe tbody tr th {\n",
       "        vertical-align: top;\n",
       "    }\n",
       "\n",
       "    .dataframe thead th {\n",
       "        text-align: right;\n",
       "    }\n",
       "</style>\n",
       "<table border=\"1\" class=\"dataframe\">\n",
       "  <thead>\n",
       "    <tr style=\"text-align: right;\">\n",
       "      <th></th>\n",
       "      <th>metric</th>\n",
       "      <th>model_error</th>\n",
       "      <th>baseline_error</th>\n",
       "    </tr>\n",
       "  </thead>\n",
       "  <tbody>\n",
       "    <tr>\n",
       "      <th>0</th>\n",
       "      <td>MSE</td>\n",
       "      <td>4.295216e+10</td>\n",
       "      <td>5.918398e+10</td>\n",
       "    </tr>\n",
       "    <tr>\n",
       "      <th>1</th>\n",
       "      <td>RMSE</td>\n",
       "      <td>2.072490e+05</td>\n",
       "      <td>2.432776e+05</td>\n",
       "    </tr>\n",
       "    <tr>\n",
       "      <th>2</th>\n",
       "      <td>SSE</td>\n",
       "      <td>5.239743e+16</td>\n",
       "      <td>7.219866e+16</td>\n",
       "    </tr>\n",
       "  </tbody>\n",
       "</table>\n",
       "</div>"
      ],
      "text/plain": [
       "  metric   model_error  baseline_error\n",
       "0    MSE  4.295216e+10    5.918398e+10\n",
       "1   RMSE  2.072490e+05    2.432776e+05\n",
       "2    SSE  5.239743e+16    7.219866e+16"
      ]
     },
     "metadata": {},
     "output_type": "display_data"
    },
    {
     "name": "stdout",
     "output_type": "stream",
     "text": [
      "ESS = 1.9801232802901132e+16\n",
      "TSS = 7.219865829380187e+16\n",
      "\n",
      "R^2 (ESS/TSS) = 0.27426039861188156\n"
     ]
    }
   ],
   "source": [
    "ev.get_reg_model_metrics(eval_scaled_df.tax_value, eval_scaled_df.yhat)"
   ]
  },
  {
   "cell_type": "markdown",
   "id": "fd0c3f1c",
   "metadata": {},
   "source": [
    "## 4. conclusion - So, the scaled data was exactly the same (probably has something to do with the fact that we only sent in one feature)"
   ]
  },
  {
   "cell_type": "markdown",
   "id": "53921fd4",
   "metadata": {},
   "source": [
    "## 5 - 7: I basically did that with the get_reg_model_metrics, just not exactly the way that was asked for. I'll clean that up below.\n",
    "\n",
    "## 8. Is your model better than the baseline model? \n",
    "\n",
    "### YES because all of the model_error metrics are < the baseline_error metrics AND because R^2 is > 0\n",
    "\n",
    "## 9. Create a file named evaluate.py with 3 functions:\n",
    "- plot_residuals(y, yhat): creates a residual plot\n",
    "- regression_errors(y, yhat): returns SSE, ESS, TSS, MSE, RMSE\n",
    "- baseline_mean_errors(y): returns SSE, MSE, RMSE for baseline\n",
    "- better_than_baseline(y, yhat): returns True if model performs better than baseline, false otherwise"
   ]
  },
  {
   "cell_type": "code",
   "execution_count": null,
   "id": "af43b613",
   "metadata": {},
   "outputs": [],
   "source": [
    "# make a function to do plot residuals\n",
    "def plot_residuals(y, yhat):\n",
    "    \"\"\"\n",
    "    This function will\n",
    "    - accept two series: y, yhat (should be all continuous variables)\n",
    "        - y = target variable\n",
    "        - yhat = predicted y value from some model\n",
    "    - prints 2 subplots, first is the model residuals, second is the baseline residuals\n",
    "    \"\"\"\n",
    "    df = pd.concat([y, yhat], axis=1)\n",
    "    cols = df.columns\n",
    "    \n",
    "    df.columns=['y','yhat']\n",
    "    \n",
    "    df['yhat_baseline'] = df.y.mean()\n",
    "    df['residuals'] = df.yhat - df.y\n",
    "    df['residuals_baseline'] = df.yhat_baseline - df.y\n",
    "    \n",
    "    plt.figure(figsize=(16,7))\n",
    "    plt.subplot(1,2,1)\n",
    "    plt.scatter(df.y, df.residuals)\n",
    "    plt.axhline(0, ls=':', color='red')\n",
    "    plt.title('Model Residuals')\n",
    "    plt.xlabel('y')\n",
    "    plt.ylabel('yhat - y')\n",
    "    \n",
    "    plt.subplot(1,2,2)\n",
    "    plt.scatter(df.y, df.residuals_baseline)\n",
    "    plt.axhline(0, ls=':', color='red')\n",
    "    plt.title('Baseline Residuals')\n",
    "    plt.xlabel('y')\n",
    "    plt.ylabel('yhat_baseline - y')\n",
    "    \n",
    "    plt.show()"
   ]
  },
  {
   "cell_type": "code",
   "execution_count": 19,
   "id": "bff363b8",
   "metadata": {},
   "outputs": [
    {
     "data": {
      "image/png": "[encoded data removed]",
      "text/plain": [
       "<Figure size 1600x700 with 2 Axes>"
      ]
     },
     "metadata": {},
     "output_type": "display_data"
    }
   ],
   "source": [
    "ev.plot_residuals(eval_df.tax_value, eval_df.yhat)"
   ]
  },
  {
   "cell_type": "code",
   "execution_count": null,
   "id": "9e8d2ed8",
   "metadata": {},
   "outputs": [],
   "source": [
    "def regression_errors(y, yhat):\n",
    "    \"\"\"\n",
    "    This function will\n",
    "    - accpet two series: y, yhat (target value, predicted target value)\n",
    "    - returns \n",
    "        - SSE: Sum of Squared Errors\n",
    "        - ESS: Explained Sum of Squares\n",
    "        - TSS: Total Sum of Squares\n",
    "        - MSE: Mean Squared Error\n",
    "        - RMSE: Root Mean Squared Error\n",
    "    \"\"\"\n",
    "    df = pd.concat([y, yhat], axis=1)\n",
    "    df.columns=['y','yhat']\n",
    "    \n",
    "    df['yhat_baseline'] = df.y.mean()\n",
    "    \n",
    "    MSE_model = mean_squared_error(df.y, df.yhat)\n",
    "    RMSE_model = MSE_model ** .5\n",
    "    SSE_model = MSE_model * len(df)\n",
    "    \n",
    "    ESS = sum((df.yhat - df.y.mean())**2)\n",
    "    TSS = ESS + SSE_model\n",
    "    R2 = ESS/TSS\n",
    "    \n",
    "    return SSE_model, ESS, TSS, MSE_model, RMSE_model"
   ]
  },
  {
   "cell_type": "code",
   "execution_count": 20,
   "id": "0a05e7e0",
   "metadata": {},
   "outputs": [
    {
     "data": {
      "text/plain": [
       "(5.2397425490900744e+16,\n",
       " 1.9801232802901132e+16,\n",
       " 7.219865829380187e+16,\n",
       " 42952159674.220345,\n",
       " 207249.0281623061)"
      ]
     },
     "execution_count": 20,
     "metadata": {},
     "output_type": "execute_result"
    }
   ],
   "source": [
    "ev.regression_errors(eval_df.tax_value, eval_df.yhat)"
   ]
  },
  {
   "cell_type": "code",
   "execution_count": null,
   "id": "9aa49e13",
   "metadata": {},
   "outputs": [],
   "source": [
    "def baseline_mean_errors(y):\n",
    "    \"\"\"\n",
    "    This function will\n",
    "    - accpet one series: y (target value)\n",
    "    - returns (for baseline model of the mean of y)\n",
    "        - SSE: Sum of Squared Errors\n",
    "        - MSE: Mean Squared Error\n",
    "        - RMSE: Root Mean Squared Error\n",
    "    \"\"\"\n",
    "    df = pd.DataFrame(y)\n",
    "    df['yhat_baseline'] = y.mean()\n",
    "    df.columns=['y','yhat_baseline']\n",
    "    \n",
    "    MSE_baseline = mean_squared_error(df.y, df.yhat_baseline)\n",
    "    RMSE_baseline = MSE_baseline ** .5\n",
    "    SSE_baseline = MSE_baseline * len(df)\n",
    "    \n",
    "    return SSE_baseline, MSE_baseline, RMSE_baseline"
   ]
  },
  {
   "cell_type": "code",
   "execution_count": 21,
   "id": "f1db151d",
   "metadata": {},
   "outputs": [
    {
     "data": {
      "text/plain": [
       "(7.219865829380253e+16, 59183982232.837166, 243277.5826763271)"
      ]
     },
     "execution_count": 21,
     "metadata": {},
     "output_type": "execute_result"
    }
   ],
   "source": [
    "ev.baseline_mean_errors(eval_df.tax_value)"
   ]
  },
  {
   "cell_type": "code",
   "execution_count": null,
   "id": "3feedb0a",
   "metadata": {},
   "outputs": [],
   "source": [
    "def better_than_baseline(y, yhat):\n",
    "    \"\"\"\n",
    "    This function will\n",
    "    - accpet two series: y, yhat (target value, predicted target value)\n",
    "    - returns True if yhat beats the baseline of the mean of y, False otherwise\n",
    "    \"\"\"\n",
    "    SSE_model, ESS, TSS, MSE_model, RMSE_model = regression_errors(y, yhat)\n",
    "    SSE_baseline, MSE_baseline, RMSE_baseline = baseline_mean_errors(y)\n",
    "    \n",
    "    # it really doesn't matter which metric we use for this test,\n",
    "    #   as long as it's the same metric from the model and from the baseline\n",
    "    \n",
    "    if (RMSE_model < RMSE_baseline): \n",
    "        return True\n",
    "    else:\n",
    "        return False"
   ]
  },
  {
   "cell_type": "code",
   "execution_count": 22,
   "id": "a4a72bb3",
   "metadata": {},
   "outputs": [
    {
     "data": {
      "text/plain": [
       "True"
      ]
     },
     "execution_count": 22,
     "metadata": {},
     "output_type": "execute_result"
    }
   ],
   "source": [
    "ev.better_than_baseline(eval_df.tax_value, eval_df.yhat)"
   ]
  },
  {
   "cell_type": "markdown",
   "id": "1f6ec995",
   "metadata": {},
   "source": [
    "# Exercise complete"
   ]
  }
 ],
 "metadata": {
  "kernelspec": {
   "display_name": "Python 3 (ipykernel)",
   "language": "python",
   "name": "python3"
  },
  "language_info": {
   "codemirror_mode": {
    "name": "ipython",
    "version": 3
   },
   "file_extension": ".py",
   "mimetype": "text/x-python",
   "name": "python",
   "nbconvert_exporter": "python",
   "pygments_lexer": "ipython3",
   "version": "3.9.13"
  }
 },
 "nbformat": 4,
 "nbformat_minor": 5
}
